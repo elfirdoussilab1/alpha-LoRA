{
 "cells": [
  {
   "cell_type": "code",
   "execution_count": 1,
   "metadata": {},
   "outputs": [],
   "source": [
    "from sympy import *"
   ]
  },
  {
   "cell_type": "code",
   "execution_count": 2,
   "metadata": {},
   "outputs": [],
   "source": [
    "alpha, beta, mu_beta, mu, lambda_Q, lambda_R, delta_Q, delta_R, gamma, h, h_tilde, eta = \\\n",
    "symbols('alpha beta mu_beta mu lambda_Q lambda_R delta_Q delta_R gamma h h_R eta')\n"
   ]
  },
  {
   "cell_type": "code",
   "execution_count": 3,
   "metadata": {},
   "outputs": [
    {
     "data": {
      "text/latex": [
       "$\\displaystyle h_{R}$"
      ],
      "text/plain": [
       "h_R"
      ]
     },
     "execution_count": 3,
     "metadata": {},
     "output_type": "execute_result"
    }
   ],
   "source": [
    "h_tilde"
   ]
  },
  {
   "cell_type": "code",
   "execution_count": 4,
   "metadata": {},
   "outputs": [
    {
     "data": {
      "text/latex": [
       "$\\displaystyle \\frac{\\alpha \\beta \\gamma \\mu^{2} \\left(\\delta_{Q} + 1\\right) + \\lambda_{R} \\mu_{\\beta}^{2}}{\\lambda_{Q} \\lambda_{R}}$"
      ],
      "text/plain": [
       "(alpha*beta*gamma*mu**2*(delta_Q + 1) + lambda_R*mu_beta**2)/(lambda_Q*lambda_R)"
      ]
     },
     "execution_count": 4,
     "metadata": {},
     "output_type": "execute_result"
    }
   ],
   "source": [
    "# Expectation\n",
    "m = (mu_beta**2 + alpha * beta * gamma * (1 + delta_Q) * mu**2 / lambda_R) / lambda_Q\n",
    "simplify(m)"
   ]
  },
  {
   "cell_type": "code",
   "execution_count": 5,
   "metadata": {},
   "outputs": [
    {
     "data": {
      "text/latex": [
       "$\\displaystyle T_{1} + T_{2} \\alpha + T_{3} \\alpha^{2}$"
      ],
      "text/plain": [
       "T_1 + T_2*alpha + T_3*alpha**2"
      ]
     },
     "execution_count": 5,
     "metadata": {},
     "output_type": "execute_result"
    }
   ],
   "source": [
    "# Expectation_2\n",
    "T_1, T_2, T_3 = symbols('T_1 T_2 T_3')\n",
    "nu = T_1 + alpha * T_2 + alpha**2 * T_3\n",
    "simplify(nu)"
   ]
  },
  {
   "cell_type": "code",
   "execution_count": 6,
   "metadata": {},
   "outputs": [
    {
     "data": {
      "text/latex": [
       "$\\displaystyle \\frac{\\left(\\alpha \\beta \\gamma \\mu^{2} \\left(\\delta_{Q} + 1\\right) + \\lambda_{R} \\mu_{\\beta}^{2}\\right)^{2}}{\\lambda_{Q}^{2} \\lambda_{R}^{2} \\left(T_{1} + T_{2} \\alpha + T_{3} \\alpha^{2}\\right) - \\left(\\alpha \\beta \\gamma \\mu^{2} \\left(\\delta_{Q} + 1\\right) + \\lambda_{R} \\mu_{\\beta}^{2}\\right)^{2}}$"
      ],
      "text/plain": [
       "(alpha*beta*gamma*mu**2*(delta_Q + 1) + lambda_R*mu_beta**2)**2/(lambda_Q**2*lambda_R**2*(T_1 + T_2*alpha + T_3*alpha**2) - (alpha*beta*gamma*mu**2*(delta_Q + 1) + lambda_R*mu_beta**2)**2)"
      ]
     },
     "execution_count": 6,
     "metadata": {},
     "output_type": "execute_result"
    }
   ],
   "source": [
    "f = simplify(m**2 / (nu - m**2))\n",
    "f"
   ]
  },
  {
   "cell_type": "code",
   "execution_count": 7,
   "metadata": {},
   "outputs": [
    {
     "data": {
      "text/latex": [
       "$\\displaystyle \\frac{\\left(\\alpha \\beta \\gamma \\mu^{2} \\left(\\delta_{Q} + 1\\right) + \\lambda_{R} \\mu_{\\beta}^{2}\\right) \\left(2 \\beta \\gamma \\mu^{2} \\left(\\delta_{Q} + 1\\right) \\left(\\lambda_{Q}^{2} \\lambda_{R}^{2} \\left(T_{1} + T_{2} \\alpha + T_{3} \\alpha^{2}\\right) - \\left(\\alpha \\beta \\gamma \\mu^{2} \\left(\\delta_{Q} + 1\\right) + \\lambda_{R} \\mu_{\\beta}^{2}\\right)^{2}\\right) + \\left(\\alpha \\beta \\gamma \\mu^{2} \\left(\\delta_{Q} + 1\\right) + \\lambda_{R} \\mu_{\\beta}^{2}\\right) \\left(2 \\beta \\gamma \\mu^{2} \\left(\\delta_{Q} + 1\\right) \\left(\\alpha \\beta \\gamma \\mu^{2} \\left(\\delta_{Q} + 1\\right) + \\lambda_{R} \\mu_{\\beta}^{2}\\right) - \\lambda_{Q}^{2} \\lambda_{R}^{2} \\left(T_{2} + 2 T_{3} \\alpha\\right)\\right)\\right)}{\\left(\\lambda_{Q}^{2} \\lambda_{R}^{2} \\left(T_{1} + T_{2} \\alpha + T_{3} \\alpha^{2}\\right) - \\left(\\alpha \\beta \\gamma \\mu^{2} \\left(\\delta_{Q} + 1\\right) + \\lambda_{R} \\mu_{\\beta}^{2}\\right)^{2}\\right)^{2}}$"
      ],
      "text/plain": [
       "(alpha*beta*gamma*mu**2*(delta_Q + 1) + lambda_R*mu_beta**2)*(2*beta*gamma*mu**2*(delta_Q + 1)*(lambda_Q**2*lambda_R**2*(T_1 + T_2*alpha + T_3*alpha**2) - (alpha*beta*gamma*mu**2*(delta_Q + 1) + lambda_R*mu_beta**2)**2) + (alpha*beta*gamma*mu**2*(delta_Q + 1) + lambda_R*mu_beta**2)*(2*beta*gamma*mu**2*(delta_Q + 1)*(alpha*beta*gamma*mu**2*(delta_Q + 1) + lambda_R*mu_beta**2) - lambda_Q**2*lambda_R**2*(T_2 + 2*T_3*alpha)))/(lambda_Q**2*lambda_R**2*(T_1 + T_2*alpha + T_3*alpha**2) - (alpha*beta*gamma*mu**2*(delta_Q + 1) + lambda_R*mu_beta**2)**2)**2"
      ]
     },
     "execution_count": 7,
     "metadata": {},
     "output_type": "execute_result"
    }
   ],
   "source": [
    "r = simplify(diff(f, alpha))\n",
    "r"
   ]
  },
  {
   "cell_type": "code",
   "execution_count": 8,
   "metadata": {},
   "outputs": [
    {
     "data": {
      "text/latex": [
       "$\\displaystyle \\left(\\alpha \\beta \\gamma \\mu^{2} \\left(\\delta_{Q} + 1\\right) + \\lambda_{R} \\mu_{\\beta}^{2}\\right) \\left(2 \\beta \\gamma \\mu^{2} \\left(\\delta_{Q} + 1\\right) \\left(\\lambda_{Q}^{2} \\lambda_{R}^{2} \\left(T_{1} + T_{2} \\alpha + T_{3} \\alpha^{2}\\right) - \\left(\\alpha \\beta \\gamma \\mu^{2} \\left(\\delta_{Q} + 1\\right) + \\lambda_{R} \\mu_{\\beta}^{2}\\right)^{2}\\right) + \\left(\\alpha \\beta \\gamma \\mu^{2} \\left(\\delta_{Q} + 1\\right) + \\lambda_{R} \\mu_{\\beta}^{2}\\right) \\left(2 \\beta \\gamma \\mu^{2} \\left(\\delta_{Q} + 1\\right) \\left(\\alpha \\beta \\gamma \\mu^{2} \\left(\\delta_{Q} + 1\\right) + \\lambda_{R} \\mu_{\\beta}^{2}\\right) - \\lambda_{Q}^{2} \\lambda_{R}^{2} \\left(T_{2} + 2 T_{3} \\alpha\\right)\\right)\\right)$"
      ],
      "text/plain": [
       "(alpha*beta*gamma*mu**2*(delta_Q + 1) + lambda_R*mu_beta**2)*(2*beta*gamma*mu**2*(delta_Q + 1)*(lambda_Q**2*lambda_R**2*(T_1 + T_2*alpha + T_3*alpha**2) - (alpha*beta*gamma*mu**2*(delta_Q + 1) + lambda_R*mu_beta**2)**2) + (alpha*beta*gamma*mu**2*(delta_Q + 1) + lambda_R*mu_beta**2)*(2*beta*gamma*mu**2*(delta_Q + 1)*(alpha*beta*gamma*mu**2*(delta_Q + 1) + lambda_R*mu_beta**2) - lambda_Q**2*lambda_R**2*(T_2 + 2*T_3*alpha)))"
      ]
     },
     "execution_count": 8,
     "metadata": {},
     "output_type": "execute_result"
    }
   ],
   "source": [
    "n, d = fraction(r)\n",
    "n"
   ]
  },
  {
   "cell_type": "code",
   "execution_count": 9,
   "metadata": {},
   "outputs": [
    {
     "data": {
      "text/plain": [
       "[(-2*T_1*beta*delta_Q*gamma*mu**2 - 2*T_1*beta*gamma*mu**2 + T_2*lambda_R*mu_beta**2)/(T_2*beta*delta_Q*gamma*mu**2 + T_2*beta*gamma*mu**2 - 2*T_3*lambda_R*mu_beta**2),\n",
       " -lambda_R*mu_beta**2/(beta*gamma*mu**2*(delta_Q + 1))]"
      ]
     },
     "execution_count": 9,
     "metadata": {},
     "output_type": "execute_result"
    }
   ],
   "source": [
    "res = solve(n, alpha)\n",
    "res"
   ]
  },
  {
   "cell_type": "code",
   "execution_count": 10,
   "metadata": {},
   "outputs": [
    {
     "data": {
      "text/latex": [
       "$\\displaystyle \\frac{- 2 T_{1} \\beta \\delta_{Q} \\gamma \\mu^{2} - 2 T_{1} \\beta \\gamma \\mu^{2} + T_{2} \\lambda_{R} \\mu_{\\beta}^{2}}{T_{2} \\beta \\delta_{Q} \\gamma \\mu^{2} + T_{2} \\beta \\gamma \\mu^{2} - 2 T_{3} \\lambda_{R} \\mu_{\\beta}^{2}}$"
      ],
      "text/plain": [
       "(-2*T_1*beta*delta_Q*gamma*mu**2 - 2*T_1*beta*gamma*mu**2 + T_2*lambda_R*mu_beta**2)/(T_2*beta*delta_Q*gamma*mu**2 + T_2*beta*gamma*mu**2 - 2*T_3*lambda_R*mu_beta**2)"
      ]
     },
     "execution_count": 10,
     "metadata": {},
     "output_type": "execute_result"
    }
   ],
   "source": [
    "simplify(res[0])"
   ]
  },
  {
   "cell_type": "code",
   "execution_count": 11,
   "metadata": {},
   "outputs": [
    {
     "data": {
      "text/latex": [
       "$\\displaystyle - \\frac{\\lambda_{R} \\mu_{\\beta}^{2}}{\\beta \\gamma \\mu^{2} \\left(\\delta_{Q} + 1\\right)}$"
      ],
      "text/plain": [
       "-lambda_R*mu_beta**2/(beta*gamma*mu**2*(delta_Q + 1))"
      ]
     },
     "execution_count": 11,
     "metadata": {},
     "output_type": "execute_result"
    }
   ],
   "source": [
    "res[1]"
   ]
  },
  {
   "cell_type": "markdown",
   "metadata": {},
   "source": [
    "## Simplifying the expression of $\\alpha^*$"
   ]
  },
  {
   "cell_type": "code",
   "execution_count": 12,
   "metadata": {},
   "outputs": [],
   "source": [
    "# Symbols\n",
    "alpha, beta, mu_beta, mu, delta_Q, delta_R, gamma, gamma_tilde, eta, eta_tilde = \\\n",
    "symbols('alpha beta mu_beta mu delta_Q delta_R gamma gamma_R eta eta_R')\n"
   ]
  },
  {
   "cell_type": "code",
   "execution_count": 13,
   "metadata": {},
   "outputs": [],
   "source": [
    "# Replacing Ts with their values\n",
    "lambda_Q = mu_beta**2 + 1 + gamma * (1 + delta_Q)\n",
    "lambda_R = mu**2 + 1 + gamma_tilde*(1 + delta_R)\n",
    "h = 1 - eta / (1 + gamma * (1 + delta_Q))**2\n",
    "h_tilde = 1 - eta_tilde / (1 + gamma_tilde * (1 + delta_R))**2"
   ]
  },
  {
   "cell_type": "code",
   "execution_count": 14,
   "metadata": {},
   "outputs": [
    {
     "data": {
      "text/latex": [
       "$\\displaystyle \\frac{\\eta_{R} \\gamma^{2} \\left(\\delta_{Q} + 1\\right)^{2} \\left(- \\frac{2 \\mu^{2}}{\\gamma_{R} \\left(\\delta_{R} + 1\\right) + \\mu^{2} + 1} + 1\\right)}{\\left(- \\frac{\\eta}{\\left(\\gamma \\left(\\delta_{Q} + 1\\right) + 1\\right)^{2}} + 1\\right) \\left(\\gamma \\left(\\delta_{Q} + 1\\right) + 1\\right)^{2} \\left(\\gamma_{R} \\left(\\delta_{R} + 1\\right) + 1\\right)^{2}} + \\frac{\\gamma^{2} \\mu^{2} \\left(\\delta_{Q} + 1\\right)^{2} \\left(\\frac{\\beta^{2} \\mu^{2}}{\\left(\\gamma \\left(\\delta_{Q} + 1\\right) + \\mu_{\\beta}^{2} + 1\\right)^{2}} + \\frac{\\frac{\\beta^{2} \\mu^{2} \\mu_{\\beta}^{2}}{\\left(\\gamma \\left(\\delta_{Q} + 1\\right) + \\mu_{\\beta}^{2} + 1\\right)^{2}} - \\frac{2 \\beta^{2} \\mu^{2}}{\\gamma \\left(\\delta_{Q} + 1\\right) + \\mu_{\\beta}^{2} + 1} + 1}{\\left(\\gamma \\left(\\delta_{Q} + 1\\right) + 1\\right)^{2}}\\right)}{\\left(- \\frac{\\eta}{\\left(\\gamma \\left(\\delta_{Q} + 1\\right) + 1\\right)^{2}} + 1\\right) \\left(\\gamma_{R} \\left(\\delta_{R} + 1\\right) + \\mu^{2} + 1\\right)^{2}}$"
      ],
      "text/plain": [
       "eta_R*gamma**2*(delta_Q + 1)**2*(-2*mu**2/(gamma_R*(delta_R + 1) + mu**2 + 1) + 1)/((-eta/(gamma*(delta_Q + 1) + 1)**2 + 1)*(gamma*(delta_Q + 1) + 1)**2*(gamma_R*(delta_R + 1) + 1)**2) + gamma**2*mu**2*(delta_Q + 1)**2*(beta**2*mu**2/(gamma*(delta_Q + 1) + mu_beta**2 + 1)**2 + (beta**2*mu**2*mu_beta**2/(gamma*(delta_Q + 1) + mu_beta**2 + 1)**2 - 2*beta**2*mu**2/(gamma*(delta_Q + 1) + mu_beta**2 + 1) + 1)/(gamma*(delta_Q + 1) + 1)**2)/((-eta/(gamma*(delta_Q + 1) + 1)**2 + 1)*(gamma_R*(delta_R + 1) + mu**2 + 1)**2)"
      ]
     },
     "execution_count": 14,
     "metadata": {},
     "output_type": "execute_result"
    }
   ],
   "source": [
    "T_1 = mu_beta**2 *((mu_beta**2 + 1)/ lambda_Q - 2*(1 - h)) / (h * lambda_Q) + (1 - h)/h\n",
    "T_2 = 2 * gamma * beta * (1 + delta_Q) * mu**2 * (1 - gamma * (1 + delta_Q) / (h * lambda_Q)) / (lambda_Q * lambda_R)\n",
    "# T_3\n",
    "r_3 = (gamma * (1 + delta_Q))**2 / h\n",
    "T_3 = r_3 * ( (mu**2 / lambda_R**2) * ((beta*mu)**2 / lambda_Q**2 + ((1 - h) / eta) * (1 + (beta*mu)**2 * mu_beta**2 / lambda_Q**2 - 2*(beta*mu)**2 / lambda_Q)))\n",
    "T_3 += r_3 * ((1 - h) * (1 - h_tilde) / eta) * (1 - 2 * mu**2 / lambda_R)\n",
    "T_3"
   ]
  },
  {
   "cell_type": "code",
   "execution_count": 15,
   "metadata": {},
   "outputs": [
    {
     "data": {
      "text/latex": [
       "$\\displaystyle \\frac{\\beta \\mu^{2} \\left(\\gamma_{R} \\left(\\delta_{R} + 1\\right) + 1\\right)^{2} \\left(\\gamma_{R} \\left(\\delta_{R} + 1\\right) + \\mu^{2} + 1\\right) \\left(\\delta_{Q} \\left(\\eta - \\left(\\gamma \\left(\\delta_{Q} + 1\\right) + 1\\right)^{2}\\right) \\left(\\eta \\left(\\gamma \\left(\\delta_{Q} + 1\\right) + \\mu_{\\beta}^{2} + 1\\right)^{2} - \\mu_{\\beta}^{2} \\cdot \\left(2 \\eta \\left(\\gamma \\left(\\delta_{Q} + 1\\right) + \\mu_{\\beta}^{2} + 1\\right) - \\left(\\mu_{\\beta}^{2} + 1\\right) \\left(\\gamma \\left(\\delta_{Q} + 1\\right) + 1\\right)^{2}\\right)\\right) + \\mu_{\\beta}^{2} \\left(\\delta_{Q} + 1\\right) \\left(\\eta - \\left(\\gamma \\left(\\delta_{Q} + 1\\right) + 1\\right)^{2}\\right) \\left(\\gamma \\left(\\delta_{Q} + 1\\right) \\left(\\gamma \\left(\\delta_{Q} + 1\\right) + 1\\right)^{2} + \\left(\\eta - \\left(\\gamma \\left(\\delta_{Q} + 1\\right) + 1\\right)^{2}\\right) \\left(\\gamma \\left(\\delta_{Q} + 1\\right) + \\mu_{\\beta}^{2} + 1\\right)\\right) + \\left(\\eta - \\left(\\gamma \\left(\\delta_{Q} + 1\\right) + 1\\right)^{2}\\right) \\left(\\eta \\left(\\gamma \\left(\\delta_{Q} + 1\\right) + \\mu_{\\beta}^{2} + 1\\right)^{2} - \\mu_{\\beta}^{2} \\cdot \\left(2 \\eta \\left(\\gamma \\left(\\delta_{Q} + 1\\right) + \\mu_{\\beta}^{2} + 1\\right) - \\left(\\mu_{\\beta}^{2} + 1\\right) \\left(\\gamma \\left(\\delta_{Q} + 1\\right) + 1\\right)^{2}\\right)\\right)\\right)}{\\gamma \\left(\\delta_{Q} + 1\\right)^{2} \\left(\\beta^{2} \\mu^{4} \\left(\\eta - \\left(\\gamma \\left(\\delta_{Q} + 1\\right) + 1\\right)^{2}\\right) \\left(\\gamma_{R} \\left(\\delta_{R} + 1\\right) + 1\\right)^{2} \\left(\\gamma \\left(\\delta_{Q} + 1\\right) \\left(\\gamma \\left(\\delta_{Q} + 1\\right) + 1\\right)^{2} + \\left(\\eta - \\left(\\gamma \\left(\\delta_{Q} + 1\\right) + 1\\right)^{2}\\right) \\left(\\gamma \\left(\\delta_{Q} + 1\\right) + \\mu_{\\beta}^{2} + 1\\right)\\right) + \\mu_{\\beta}^{2} \\left(\\eta - \\left(\\gamma \\left(\\delta_{Q} + 1\\right) + 1\\right)^{2}\\right) \\left(\\eta_{R} \\left(\\gamma \\left(\\delta_{Q} + 1\\right) + \\mu_{\\beta}^{2} + 1\\right)^{2} \\left(\\gamma_{R} \\left(\\delta_{R} + 1\\right) - \\mu^{2} + 1\\right) \\left(\\gamma_{R} \\left(\\delta_{R} + 1\\right) + \\mu^{2} + 1\\right) + \\mu^{2} \\left(\\gamma_{R} \\left(\\delta_{R} + 1\\right) + 1\\right)^{2} \\left(\\beta^{2} \\mu^{2} \\mu_{\\beta}^{2} + \\beta^{2} \\mu^{2} \\left(\\gamma \\left(\\delta_{Q} + 1\\right) + 1\\right)^{2} - 2 \\beta^{2} \\mu^{2} \\left(\\gamma \\left(\\delta_{Q} + 1\\right) + \\mu_{\\beta}^{2} + 1\\right) + \\left(\\gamma \\left(\\delta_{Q} + 1\\right) + \\mu_{\\beta}^{2} + 1\\right)^{2}\\right)\\right)\\right)}$"
      ],
      "text/plain": [
       "beta*mu**2*(gamma_R*(delta_R + 1) + 1)**2*(gamma_R*(delta_R + 1) + mu**2 + 1)*(delta_Q*(eta - (gamma*(delta_Q + 1) + 1)**2)*(eta*(gamma*(delta_Q + 1) + mu_beta**2 + 1)**2 - mu_beta**2*(2*eta*(gamma*(delta_Q + 1) + mu_beta**2 + 1) - (mu_beta**2 + 1)*(gamma*(delta_Q + 1) + 1)**2)) + mu_beta**2*(delta_Q + 1)*(eta - (gamma*(delta_Q + 1) + 1)**2)*(gamma*(delta_Q + 1)*(gamma*(delta_Q + 1) + 1)**2 + (eta - (gamma*(delta_Q + 1) + 1)**2)*(gamma*(delta_Q + 1) + mu_beta**2 + 1)) + (eta - (gamma*(delta_Q + 1) + 1)**2)*(eta*(gamma*(delta_Q + 1) + mu_beta**2 + 1)**2 - mu_beta**2*(2*eta*(gamma*(delta_Q + 1) + mu_beta**2 + 1) - (mu_beta**2 + 1)*(gamma*(delta_Q + 1) + 1)**2)))/(gamma*(delta_Q + 1)**2*(beta**2*mu**4*(eta - (gamma*(delta_Q + 1) + 1)**2)*(gamma_R*(delta_R + 1) + 1)**2*(gamma*(delta_Q + 1)*(gamma*(delta_Q + 1) + 1)**2 + (eta - (gamma*(delta_Q + 1) + 1)**2)*(gamma*(delta_Q + 1) + mu_beta**2 + 1)) + mu_beta**2*(eta - (gamma*(delta_Q + 1) + 1)**2)*(eta_R*(gamma*(delta_Q + 1) + mu_beta**2 + 1)**2*(gamma_R*(delta_R + 1) - mu**2 + 1)*(gamma_R*(delta_R + 1) + mu**2 + 1) + mu**2*(gamma_R*(delta_R + 1) + 1)**2*(beta**2*mu**2*mu_beta**2 + beta**2*mu**2*(gamma*(delta_Q + 1) + 1)**2 - 2*beta**2*mu**2*(gamma*(delta_Q + 1) + mu_beta**2 + 1) + (gamma*(delta_Q + 1) + mu_beta**2 + 1)**2))))"
      ]
     },
     "execution_count": 15,
     "metadata": {},
     "output_type": "execute_result"
    }
   ],
   "source": [
    "# First solution\n",
    "alpha_1 = (-2*T_1*beta*delta_Q*gamma*mu**2 - 2*T_1*beta*gamma*mu**2 + T_2*lambda_R*mu_beta**2)/(T_2*beta*delta_Q*gamma*mu**2 + T_2*beta*gamma*mu**2 - 2*T_3*lambda_R*mu_beta**2)\n",
    "simplify(alpha_1)"
   ]
  },
  {
   "cell_type": "markdown",
   "metadata": {},
   "source": [
    "## Leaving $h$ and $\\tilde h$"
   ]
  },
  {
   "cell_type": "code",
   "execution_count": 20,
   "metadata": {},
   "outputs": [],
   "source": [
    "# Symbols\n",
    "alpha, beta, mu_beta, mu, delta_Q, delta_R, gamma, gamma_tilde, eta, h, h_tilde = \\\n",
    "symbols('alpha beta mu_beta mu delta_Q delta_R gamma gamma_R eta h h_R')\n"
   ]
  },
  {
   "cell_type": "code",
   "execution_count": 21,
   "metadata": {},
   "outputs": [],
   "source": [
    "# Replacing Ts with their values\n",
    "lambda_Q = mu_beta**2 + 1 + gamma * (1 + delta_Q)\n",
    "lambda_R = mu**2 + 1 + gamma_tilde*(1 + delta_R)"
   ]
  },
  {
   "cell_type": "code",
   "execution_count": 22,
   "metadata": {},
   "outputs": [],
   "source": [
    "T_1 = mu_beta**2 *((mu_beta**2 + 1)/ lambda_Q - 2*(1 - h)) / (h * lambda_Q) + (1 - h)/h\n",
    "T_2 = 2 * gamma * beta * (1 + delta_Q) * mu**2 * (1 - gamma * (1 + delta_Q) / (h * lambda_Q)) / (lambda_Q * lambda_R)\n",
    "# T_3\n",
    "r_3 = (gamma * (1 + delta_Q))**2 / h\n",
    "T_3 = r_3 * ( (mu**2 / lambda_R**2) * ((beta*mu)**2 / lambda_Q**2 + ((1 - h) / eta) * (1 + (beta*mu)**2 * mu_beta**2 / lambda_Q**2 - 2*(beta*mu)**2 / lambda_Q)))\n",
    "T_3 += r_3 * ((1 - h) * (1 - h_tilde) / eta) * (1 - 2 * mu**2 / lambda_R)\n"
   ]
  },
  {
   "cell_type": "code",
   "execution_count": 23,
   "metadata": {},
   "outputs": [
    {
     "data": {
      "text/latex": [
       "$\\displaystyle \\frac{\\beta \\eta \\mu^{2} \\left(\\gamma_{R} \\left(\\delta_{R} + 1\\right) + \\mu^{2} + 1\\right) \\left(\\mu_{\\beta}^{2} \\left(\\gamma \\left(\\delta_{Q} + 1\\right) - h \\left(\\gamma \\left(\\delta_{Q} + 1\\right) + \\mu_{\\beta}^{2} + 1\\right)\\right) + \\mu_{\\beta}^{2} \\left(\\mu_{\\beta}^{2} + 2 \\left(h - 1\\right) \\left(\\gamma \\left(\\delta_{Q} + 1\\right) + \\mu_{\\beta}^{2} + 1\\right) + 1\\right) + \\left(1 - h\\right) \\left(\\gamma \\left(\\delta_{Q} + 1\\right) + \\mu_{\\beta}^{2} + 1\\right)^{2}\\right)}{\\gamma \\left(\\delta_{Q} + 1\\right) \\left(\\beta^{2} \\eta \\mu^{4} \\left(\\gamma \\left(\\delta_{Q} + 1\\right) - h \\left(\\gamma \\left(\\delta_{Q} + 1\\right) + \\mu_{\\beta}^{2} + 1\\right)\\right) + \\mu_{\\beta}^{2} \\left(\\mu^{2} \\left(\\beta^{2} \\eta \\mu^{2} - \\left(h - 1\\right) \\left(\\beta^{2} \\mu^{2} \\mu_{\\beta}^{2} - 2 \\beta^{2} \\mu^{2} \\left(\\gamma \\left(\\delta_{Q} + 1\\right) + \\mu_{\\beta}^{2} + 1\\right) + \\left(\\gamma \\left(\\delta_{Q} + 1\\right) + \\mu_{\\beta}^{2} + 1\\right)^{2}\\right)\\right) - \\left(h - 1\\right) \\left(h_{R} - 1\\right) \\left(\\gamma \\left(\\delta_{Q} + 1\\right) + \\mu_{\\beta}^{2} + 1\\right)^{2} \\left(- \\gamma_{R} \\left(\\delta_{R} + 1\\right) + \\mu^{2} - 1\\right) \\left(\\gamma_{R} \\left(\\delta_{R} + 1\\right) + \\mu^{2} + 1\\right)\\right)\\right)}$"
      ],
      "text/plain": [
       "beta*eta*mu**2*(gamma_R*(delta_R + 1) + mu**2 + 1)*(mu_beta**2*(gamma*(delta_Q + 1) - h*(gamma*(delta_Q + 1) + mu_beta**2 + 1)) + mu_beta**2*(mu_beta**2 + 2*(h - 1)*(gamma*(delta_Q + 1) + mu_beta**2 + 1) + 1) + (1 - h)*(gamma*(delta_Q + 1) + mu_beta**2 + 1)**2)/(gamma*(delta_Q + 1)*(beta**2*eta*mu**4*(gamma*(delta_Q + 1) - h*(gamma*(delta_Q + 1) + mu_beta**2 + 1)) + mu_beta**2*(mu**2*(beta**2*eta*mu**2 - (h - 1)*(beta**2*mu**2*mu_beta**2 - 2*beta**2*mu**2*(gamma*(delta_Q + 1) + mu_beta**2 + 1) + (gamma*(delta_Q + 1) + mu_beta**2 + 1)**2)) - (h - 1)*(h_R - 1)*(gamma*(delta_Q + 1) + mu_beta**2 + 1)**2*(-gamma_R*(delta_R + 1) + mu**2 - 1)*(gamma_R*(delta_R + 1) + mu**2 + 1))))"
      ]
     },
     "execution_count": 23,
     "metadata": {},
     "output_type": "execute_result"
    }
   ],
   "source": [
    "# First solution\n",
    "alpha_1 = (-2*T_1*beta*delta_Q*gamma*mu**2 - 2*T_1*beta*gamma*mu**2 + T_2*lambda_R*mu_beta**2)/(T_2*beta*delta_Q*gamma*mu**2 + T_2*beta*gamma*mu**2 - 2*T_3*lambda_R*mu_beta**2)\n",
    "simplify(alpha_1)"
   ]
  },
  {
   "cell_type": "markdown",
   "metadata": {},
   "source": [
    "## Leaving lambdas"
   ]
  },
  {
   "cell_type": "code",
   "execution_count": 24,
   "metadata": {},
   "outputs": [],
   "source": [
    "# Symbols\n",
    "alpha, beta, mu_beta, mu, delta_Q, delta_R, gamma, gamma_tilde, eta, h, h_tilde, lambda_Q, lambda_R = \\\n",
    "symbols('alpha beta mu_beta mu delta_Q delta_R gamma gamma_R eta h h_R lambda_Q lambda_R')\n"
   ]
  },
  {
   "cell_type": "code",
   "execution_count": 25,
   "metadata": {},
   "outputs": [],
   "source": [
    "T_1 = mu_beta**2 *((mu_beta**2 + 1)/ lambda_Q - 2*(1 - h)) / (h * lambda_Q) + (1 - h)/h\n",
    "T_2 = 2 * gamma * beta * (1 + delta_Q) * mu**2 * (1 - gamma * (1 + delta_Q) / (h * lambda_Q)) / (lambda_Q * lambda_R)\n",
    "# T_3\n",
    "r_3 = (gamma * (1 + delta_Q))**2 / h\n",
    "T_3 = r_3 * ( (mu**2 / lambda_R**2) * ((beta*mu)**2 / lambda_Q**2 + ((1 - h) / eta) * (1 + (beta*mu)**2 * mu_beta**2 / lambda_Q**2 - 2*(beta*mu)**2 / lambda_Q)))\n",
    "T_3 += r_3 * ((1 - h) * (1 - h_tilde) / eta) * (1 - 2 * mu**2 / lambda_R)\n"
   ]
  },
  {
   "cell_type": "code",
   "execution_count": 26,
   "metadata": {},
   "outputs": [
    {
     "data": {
      "text/latex": [
       "$\\displaystyle \\frac{\\beta \\eta \\lambda_{R} \\mu^{2} \\left(\\lambda_{Q}^{2} \\cdot \\left(1 - h\\right) + \\mu_{\\beta}^{2} \\left(\\gamma \\left(\\delta_{Q} + 1\\right) - h \\lambda_{Q}\\right) + \\mu_{\\beta}^{2} \\cdot \\left(2 \\lambda_{Q} \\left(h - 1\\right) + \\mu_{\\beta}^{2} + 1\\right)\\right)}{\\gamma \\left(\\delta_{Q} + 1\\right) \\left(\\beta^{2} \\eta \\mu^{4} \\left(\\gamma \\left(\\delta_{Q} + 1\\right) - h \\lambda_{Q}\\right) + \\mu_{\\beta}^{2} \\left(\\lambda_{Q}^{2} \\lambda_{R} \\left(h - 1\\right) \\left(h_{R} - 1\\right) \\left(\\lambda_{R} - 2 \\mu^{2}\\right) + \\mu^{2} \\left(\\beta^{2} \\eta \\mu^{2} - \\left(h - 1\\right) \\left(- 2 \\beta^{2} \\lambda_{Q} \\mu^{2} + \\beta^{2} \\mu^{2} \\mu_{\\beta}^{2} + \\lambda_{Q}^{2}\\right)\\right)\\right)\\right)}$"
      ],
      "text/plain": [
       "beta*eta*lambda_R*mu**2*(lambda_Q**2*(1 - h) + mu_beta**2*(gamma*(delta_Q + 1) - h*lambda_Q) + mu_beta**2*(2*lambda_Q*(h - 1) + mu_beta**2 + 1))/(gamma*(delta_Q + 1)*(beta**2*eta*mu**4*(gamma*(delta_Q + 1) - h*lambda_Q) + mu_beta**2*(lambda_Q**2*lambda_R*(h - 1)*(h_R - 1)*(lambda_R - 2*mu**2) + mu**2*(beta**2*eta*mu**2 - (h - 1)*(-2*beta**2*lambda_Q*mu**2 + beta**2*mu**2*mu_beta**2 + lambda_Q**2)))))"
      ]
     },
     "execution_count": 26,
     "metadata": {},
     "output_type": "execute_result"
    }
   ],
   "source": [
    "# First solution\n",
    "alpha_1 = (-2*T_1*beta*delta_Q*gamma*mu**2 - 2*T_1*beta*gamma*mu**2 + T_2*lambda_R*mu_beta**2)/(T_2*beta*delta_Q*gamma*mu**2 + T_2*beta*gamma*mu**2 - 2*T_3*lambda_R*mu_beta**2)\n",
    "simplify(alpha_1)"
   ]
  }
 ],
 "metadata": {
  "kernelspec": {
   "display_name": ".venv",
   "language": "python",
   "name": "python3"
  },
  "language_info": {
   "codemirror_mode": {
    "name": "ipython",
    "version": 3
   },
   "file_extension": ".py",
   "mimetype": "text/x-python",
   "name": "python",
   "nbconvert_exporter": "python",
   "pygments_lexer": "ipython3",
   "version": "3.9.6"
  }
 },
 "nbformat": 4,
 "nbformat_minor": 2
}
