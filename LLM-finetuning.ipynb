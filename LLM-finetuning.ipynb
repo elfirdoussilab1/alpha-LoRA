{
 "cells": [
  {
   "cell_type": "markdown",
   "id": "de0944bc",
   "metadata": {},
   "source": [
    "----\n",
    "# LLM fine-tuning from scratch: Coding the Modifed LoRA and evaluating that on a task/benchmark\n",
    "\n",
    "In this notebook, we will finetune a BERT model to perform sentiment analysis.\n",
    "\n",
    "----"
   ]
  },
  {
   "cell_type": "markdown",
   "id": "51d06411",
   "metadata": {},
   "source": [
    "### Implementing our modified version of LoRA"
   ]
  },
  {
   "cell_type": "code",
   "execution_count": null,
   "id": "feae1149",
   "metadata": {},
   "outputs": [],
   "source": [
    "import torch\n",
    "from torch import nn\n",
    "import math\n",
    "\n",
    "class LoRALinear(nn.Module):\n",
    "    def __init__(self, linear, rank, alpha):\n",
    "        super().__init__()\n",
    "        # These are the weights from the original pretrained model\n",
    "        self.linear = linear\n",
    "        in_dim = linear.in_features\n",
    "        out_dim = linear.out_features\n",
    "        \n",
    "        # These are the LoRA parameters\n",
    "        std = 1 / math.sqrt(rank)\n",
    "        self.lora_A = nn.Parameter(torch.randn(in_dim, rank) * std, requires_grad= True)\n",
    "        self.lora_B = nn.Parameter(torch.zeros(rank, out_dim), requires_grad= True)\n",
    "        \n",
    "        # Other parameters of lora\n",
    "        self.rank = rank \n",
    "        self.alpha = alpha # This is our alpha parameter in the theory\n",
    "        # we can also set: self.alpha = nn.Parameter(..) if we want to make it trainable\n",
    "        # Freeze the linear layer and to only make lora parameters trainable\n",
    "        self.linear.weight.requires_grad = False\n",
    "    \n",
    "    def forward(self, x):\n",
    "        x = self.alpha * self.linear +  (x @ self.lora_A @ self.lora_B) / self.rank\n",
    "        return x\n"
   ]
  },
  {
   "cell_type": "markdown",
   "id": "3c720e6a",
   "metadata": {},
   "source": [
    "### Loading the dataset"
   ]
  },
  {
   "cell_type": "code",
   "execution_count": 2,
   "id": "e2943ef2",
   "metadata": {},
   "outputs": [],
   "source": [
    "import os\n",
    "from datasets import load_dataset\n",
    "\n",
    "import pandas as pd\n",
    "import torch\n",
    "\n",
    "from processing.dataset_utils import download_dataset, load_dataset_into_to_dataframe, partition_dataset, IMDBDataset"
   ]
  },
  {
   "cell_type": "code",
   "execution_count": 3,
   "id": "8a6e6d06",
   "metadata": {},
   "outputs": [
    {
     "name": "stdout",
     "output_type": "stream",
     "text": [
      "Please switch to a GPU machine before running this notebook.\n"
     ]
    }
   ],
   "source": [
    "if not torch.cuda.is_available():\n",
    "    print(\"Please switch to a GPU machine before running this notebook.\")"
   ]
  },
  {
   "cell_type": "code",
   "execution_count": null,
   "id": "ee72ebb3",
   "metadata": {},
   "outputs": [
    {
     "name": "stdout",
     "output_type": "stream",
     "text": [
      "100% | 80.23 MB | 4.28 MB/s | 18.75 sec elapsed"
     ]
    },
    {
     "name": "stderr",
     "output_type": "stream",
     "text": [
      "100%|██████████| 50000/50000 [00:26<00:00, 1888.82it/s]\n"
     ]
    },
    {
     "name": "stdout",
     "output_type": "stream",
     "text": [
      "Class distribution:\n"
     ]
    }
   ],
   "source": [
    "files = (\"test.csv\", \"train.csv\", \"val.csv\")\n",
    "download = True\n",
    "\n",
    "for f in files:\n",
    "    if not os.path.exists(os.path.join(\"data/sentiment\", f)):\n",
    "        download = False\n",
    "\n",
    "if download is False:\n",
    "    download_dataset()\n",
    "    df = load_dataset_into_to_dataframe()\n",
    "    partition_dataset(df)"
   ]
  },
  {
   "cell_type": "code",
   "execution_count": null,
   "id": "34087f9f",
   "metadata": {},
   "outputs": [],
   "source": []
  }
 ],
 "metadata": {
  "kernelspec": {
   "display_name": ".venv",
   "language": "python",
   "name": "python3"
  },
  "language_info": {
   "codemirror_mode": {
    "name": "ipython",
    "version": 3
   },
   "file_extension": ".py",
   "mimetype": "text/x-python",
   "name": "python",
   "nbconvert_exporter": "python",
   "pygments_lexer": "ipython3",
   "version": "3.9.6"
  }
 },
 "nbformat": 4,
 "nbformat_minor": 5
}
