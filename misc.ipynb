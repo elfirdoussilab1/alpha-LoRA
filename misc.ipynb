{
 "cells": [
  {
   "cell_type": "markdown",
   "id": "9b51a82d",
   "metadata": {},
   "source": [
    "## Fine-Tuning Your first LLM with Pytorch and HF"
   ]
  },
  {
   "cell_type": "code",
   "execution_count": null,
   "id": "4685c161",
   "metadata": {},
   "outputs": [],
   "source": []
  },
  {
   "cell_type": "markdown",
   "id": "c5f2f255",
   "metadata": {},
   "source": [
    "-----"
   ]
  },
  {
   "cell_type": "code",
   "execution_count": 1,
   "id": "5f62836d",
   "metadata": {},
   "outputs": [
    {
     "name": "stdout",
     "output_type": "stream",
     "text": [
      "[-2.  -1.8 -1.6 -1.4 -1.2 -1.  -0.8 -0.6 -0.4 -0.2  0.   0.2  0.4  0.6\n",
      "  0.8  1.   1.2  1.4  1.6  1.8  2. ]\n",
      "10\n"
     ]
    }
   ],
   "source": [
    "import numpy as np\n",
    "alphas = np.linspace(-2, 2, 21)\n",
    "t = np.arange(41)\n",
    "print(alphas)\n",
    "print(np.where(alphas == 0)[0][0])"
   ]
  },
  {
   "cell_type": "code",
   "execution_count": null,
   "id": "99fb4d75",
   "metadata": {},
   "outputs": [],
   "source": []
  }
 ],
 "metadata": {
  "kernelspec": {
   "display_name": ".venv",
   "language": "python",
   "name": "python3"
  },
  "language_info": {
   "codemirror_mode": {
    "name": "ipython",
    "version": 3
   },
   "file_extension": ".py",
   "mimetype": "text/x-python",
   "name": "python",
   "nbconvert_exporter": "python",
   "pygments_lexer": "ipython3",
   "version": "3.9.6"
  }
 },
 "nbformat": 4,
 "nbformat_minor": 5
}
