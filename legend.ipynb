{
 "cells": [
  {
   "cell_type": "markdown",
   "metadata": {},
   "source": [
    "# Here we create the legends of our plots"
   ]
  },
  {
   "cell_type": "code",
   "execution_count": 2,
   "metadata": {},
   "outputs": [],
   "source": [
    "def export_legend(legend, filename):\n",
    "    fig  = legend.figure\n",
    "    fig.canvas.draw()\n",
    "    bbox  = legend.get_window_extent().transformed(fig.dpi_scale_trans.inverted())\n",
    "    fig.savefig(filename, dpi=\"figure\", bbox_inches=bbox)"
   ]
  },
  {
   "cell_type": "code",
   "execution_count": 4,
   "metadata": {},
   "outputs": [
    {
     "data": {
      "image/png": "[encoded data removed]",
      "text/plain": [
       "<Figure size 1500x100 with 1 Axes>"
      ]
     },
     "metadata": {},
     "output_type": "display_data"
    }
   ],
   "source": [
    "import matplotlib.pyplot as plt\n",
    "plt.rcParams.update({\"text.usetex\": True,\"font.family\": \"STIXGeneral\"})#,\"font.sans-serif\": \"Helvetica\",})\n",
    "# Create a Figure and Axes\n",
    "fig, ax = plt.subplots(figsize = (15, 1))\n",
    " \n",
    "ax.plot([], [], label='Theory $\\mathcal{C}_1$', color = 'tab:red', linewidth = 3)\n",
    "ax.plot([], [], label='Theory $\\mathcal{C}_2$', color = 'tab:blue', linewidth = 3)\n",
    "ax.hist([], label='Simulation $\\mathcal{C}_1$', color = 'tab:red', alpha = .5)\n",
    "ax.hist([], label='Simulation $\\mathcal{C}_2$', color = 'tab:blue', alpha = .5)\n",
    " \n",
    "legend = plt.legend(loc='upper center', bbox_to_anchor=(0.5, 0.5), fontsize = 17, fancybox= True, ncol = 4 )\n",
    " \n",
    "# Hide the axes to only show the legend\n",
    "ax.set_axis_off()\n",
    " \n",
    "# Save the plot with only the legend to a PDF file\n",
    "#legend.savefig('legend_11.pdf', bbox_inches='tight')\n",
    "filename = \"./legends/legend_1.pdf\"\n",
    "export_legend(legend)\n",
    " \n",
    "# Show the legend (optional)\n",
    "plt.show()"
   ]
  },
  {
   "cell_type": "code",
   "execution_count": 11,
   "metadata": {},
   "outputs": [
    {
     "data": {
      "image/png": "[encoded data removed]",
      "text/plain": [
       "<Figure size 1500x100 with 1 Axes>"
      ]
     },
     "metadata": {},
     "output_type": "display_data"
    }
   ],
   "source": [
    "import matplotlib.pyplot as plt\n",
    "plt.rcParams.update({\"text.usetex\": True,\"font.family\": \"STIXGeneral\"})#,\"font.sans-serif\": \"Helvetica\",})\n",
    "# Create a Figure and Axes\n",
    "fig, ax = plt.subplots(figsize = (15, 1))\n",
    " \n",
    "ax.plot([], [], label='$\\\\alpha$-FTC', color = 'tab:blue', linewidth = 3)\n",
    "ax.plot([], [], label='No-FT ($\\\\alpha = 0$)', color = 'tab:orange', linestyle = '-.' , linewidth = 3)\n",
    "ax.scatter([], [], label='Optimal $\\\\alpha^*$', color = 'tab:green', marker = 'D' )\n",
    "ax.scatter([], [], label='Minimal $\\\\bar \\\\alpha$', color = 'tab:red', marker = 'D')\n",
    " \n",
    "legend = plt.legend(loc='upper center', bbox_to_anchor=(0.5, 0.5), fontsize = 17, fancybox= True, ncol = 4 )\n",
    " \n",
    "# Hide the axes to only show the legend\n",
    "ax.set_axis_off()\n",
    " \n",
    "# Save the plot with only the legend to a PDF file\n",
    "#legend.savefig('legend_11.pdf', bbox_inches='tight')\n",
    "filename = \"./legends/legend_2.pdf\"\n",
    "export_legend(legend, filename)\n",
    " \n",
    "# Show the legend (optional)\n",
    "plt.show()"
   ]
  },
  {
   "cell_type": "code",
   "execution_count": 4,
   "metadata": {},
   "outputs": [
    {
     "data": {
      "image/png": "[encoded data removed]",
      "text/plain": [
       "<Figure size 1500x100 with 1 Axes>"
      ]
     },
     "metadata": {},
     "output_type": "display_data"
    }
   ],
   "source": [
    "import matplotlib.pyplot as plt\n",
    "plt.rcParams.update({\"text.usetex\": True,\"font.family\": \"STIXGeneral\"})#,\"font.sans-serif\": \"Helvetica\",})\n",
    "# Create a Figure and Axes\n",
    "fig, ax = plt.subplots(figsize = (15, 1))\n",
    " \n",
    "ax.plot([], [], label='$\\\\alpha$-FTC', color = 'tab:blue', linewidth = 3)\n",
    "ax.plot([], [], label='No-FT ($\\\\alpha = 0$)', color = 'tab:orange', linestyle = '-.' , linewidth = 3)\n",
    "ax.plot([], [], label='$\\\\alpha = 1$', color = 'tab:purple', linestyle = '-.' , linewidth = 3)\n",
    "ax.scatter([], [], label='Optimal $\\\\alpha^*$', color = 'tab:green', marker = 'D' )\n",
    "ax.scatter([], [], label='Minimal $\\\\bar \\\\alpha$', color = 'tab:red', marker = 'D')\n",
    " \n",
    "legend = plt.legend(loc='upper center', bbox_to_anchor=(0.5, 0.5), fontsize = 17, fancybox= True, ncol = 5 )\n",
    " \n",
    "# Hide the axes to only show the legend\n",
    "ax.set_axis_off()\n",
    " \n",
    "# Save the plot with only the legend to a PDF file\n",
    "#legend.savefig('legend_11.pdf', bbox_inches='tight')\n",
    "filename = \"./legends/legend_3.pdf\"\n",
    "export_legend(legend, filename)\n",
    " \n",
    "# Show the legend (optional)\n",
    "plt.show()"
   ]
  }
 ],
 "metadata": {
  "kernelspec": {
   "display_name": ".venv",
   "language": "python",
   "name": "python3"
  },
  "language_info": {
   "codemirror_mode": {
    "name": "ipython",
    "version": 3
   },
   "file_extension": ".py",
   "mimetype": "text/x-python",
   "name": "python",
   "nbconvert_exporter": "python",
   "pygments_lexer": "ipython3",
   "version": "3.9.6"
  }
 },
 "nbformat": 4,
 "nbformat_minor": 4
}
