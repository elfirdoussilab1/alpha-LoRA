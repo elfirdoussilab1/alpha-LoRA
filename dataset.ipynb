{
 "cells": [
  {
   "cell_type": "code",
   "execution_count": 4,
   "metadata": {},
   "outputs": [],
   "source": [
    "import torchvision\n",
    "from torchvision.transforms import ToTensor"
   ]
  },
  {
   "cell_type": "code",
   "execution_count": 5,
   "metadata": {},
   "outputs": [
    {
     "name": "stdout",
     "output_type": "stream",
     "text": [
      "Downloading http://yann.lecun.com/exdb/mnist/train-images-idx3-ubyte.gz\n",
      "Failed to download (trying next):\n",
      "HTTP Error 403: Forbidden\n",
      "\n",
      "Downloading https://ossci-datasets.s3.amazonaws.com/mnist/train-images-idx3-ubyte.gz\n",
      "Downloading https://ossci-datasets.s3.amazonaws.com/mnist/train-images-idx3-ubyte.gz to datasets/MNIST/raw/train-images-idx3-ubyte.gz\n"
     ]
    },
    {
     "name": "stderr",
     "output_type": "stream",
     "text": [
      "100%|██████████| 9912422/9912422 [02:06<00:00, 78193.75it/s] \n"
     ]
    },
    {
     "name": "stdout",
     "output_type": "stream",
     "text": [
      "Extracting datasets/MNIST/raw/train-images-idx3-ubyte.gz to datasets/MNIST/raw\n",
      "\n",
      "Downloading http://yann.lecun.com/exdb/mnist/train-labels-idx1-ubyte.gz\n",
      "Failed to download (trying next):\n",
      "HTTP Error 403: Forbidden\n",
      "\n",
      "Downloading https://ossci-datasets.s3.amazonaws.com/mnist/train-labels-idx1-ubyte.gz\n",
      "Downloading https://ossci-datasets.s3.amazonaws.com/mnist/train-labels-idx1-ubyte.gz to datasets/MNIST/raw/train-labels-idx1-ubyte.gz\n"
     ]
    },
    {
     "name": "stderr",
     "output_type": "stream",
     "text": [
      "100%|██████████| 28881/28881 [00:00<00:00, 142966.54it/s]\n"
     ]
    },
    {
     "name": "stdout",
     "output_type": "stream",
     "text": [
      "Extracting datasets/MNIST/raw/train-labels-idx1-ubyte.gz to datasets/MNIST/raw\n",
      "\n",
      "Downloading http://yann.lecun.com/exdb/mnist/t10k-images-idx3-ubyte.gz\n",
      "Failed to download (trying next):\n",
      "HTTP Error 403: Forbidden\n",
      "\n",
      "Downloading https://ossci-datasets.s3.amazonaws.com/mnist/t10k-images-idx3-ubyte.gz\n",
      "Downloading https://ossci-datasets.s3.amazonaws.com/mnist/t10k-images-idx3-ubyte.gz to datasets/MNIST/raw/t10k-images-idx3-ubyte.gz\n"
     ]
    },
    {
     "name": "stderr",
     "output_type": "stream",
     "text": [
      "100%|██████████| 1648877/1648877 [00:03<00:00, 528077.78it/s]\n"
     ]
    },
    {
     "name": "stdout",
     "output_type": "stream",
     "text": [
      "Extracting datasets/MNIST/raw/t10k-images-idx3-ubyte.gz to datasets/MNIST/raw\n",
      "\n",
      "Downloading http://yann.lecun.com/exdb/mnist/t10k-labels-idx1-ubyte.gz\n",
      "Failed to download (trying next):\n",
      "HTTP Error 403: Forbidden\n",
      "\n",
      "Downloading https://ossci-datasets.s3.amazonaws.com/mnist/t10k-labels-idx1-ubyte.gz\n",
      "Downloading https://ossci-datasets.s3.amazonaws.com/mnist/t10k-labels-idx1-ubyte.gz to datasets/MNIST/raw/t10k-labels-idx1-ubyte.gz\n"
     ]
    },
    {
     "name": "stderr",
     "output_type": "stream",
     "text": [
      "100%|██████████| 4542/4542 [00:00<00:00, 1100296.22it/s]"
     ]
    },
    {
     "name": "stdout",
     "output_type": "stream",
     "text": [
      "Extracting datasets/MNIST/raw/t10k-labels-idx1-ubyte.gz to datasets/MNIST/raw\n",
      "\n"
     ]
    },
    {
     "name": "stderr",
     "output_type": "stream",
     "text": [
      "\n"
     ]
    }
   ],
   "source": [
    "train_data = torchvision.datasets.MNIST(root = \"datasets\", train = True, download = True, transform = ToTensor())"
   ]
  },
  {
   "cell_type": "code",
   "execution_count": 14,
   "metadata": {},
   "outputs": [
    {
     "data": {
      "text/plain": [
       "Dataset MNIST\n",
       "    Number of datapoints: 60000\n",
       "    Root location: datasets\n",
       "    Split: Train\n",
       "    StandardTransform\n",
       "Transform: ToTensor()"
      ]
     },
     "execution_count": 14,
     "metadata": {},
     "output_type": "execute_result"
    }
   ],
   "source": [
    "train_data"
   ]
  },
  {
   "cell_type": "code",
   "execution_count": 54,
   "metadata": {},
   "outputs": [],
   "source": [
    "X = train_data.data"
   ]
  },
  {
   "cell_type": "code",
   "execution_count": 55,
   "metadata": {},
   "outputs": [
    {
     "name": "stdout",
     "output_type": "stream",
     "text": [
      "(60000, 28, 28)\n"
     ]
    }
   ],
   "source": [
    "X_train = X.cpu().detach().numpy()\n",
    "print(X_train.shape)"
   ]
  },
  {
   "cell_type": "code",
   "execution_count": 56,
   "metadata": {},
   "outputs": [
    {
     "name": "stdout",
     "output_type": "stream",
     "text": [
      "(60000, 784)\n"
     ]
    }
   ],
   "source": [
    "n = X_train.shape[0]\n",
    "X_train = X_train.reshape(n, -1)\n",
    "print(X_train.shape)"
   ]
  },
  {
   "cell_type": "code",
   "execution_count": 57,
   "metadata": {},
   "outputs": [
    {
     "data": {
      "text/plain": [
       "tensor([5, 0, 4,  ..., 5, 6, 8])"
      ]
     },
     "execution_count": 57,
     "metadata": {},
     "output_type": "execute_result"
    }
   ],
   "source": [
    "y = train_data.targets\n",
    "y"
   ]
  },
  {
   "cell_type": "code",
   "execution_count": 58,
   "metadata": {},
   "outputs": [
    {
     "name": "stdout",
     "output_type": "stream",
     "text": [
      "(60000,)\n"
     ]
    }
   ],
   "source": [
    "y_train= y.cpu().detach().numpy()\n",
    "print(y_train.shape)"
   ]
  },
  {
   "cell_type": "code",
   "execution_count": 59,
   "metadata": {},
   "outputs": [],
   "source": [
    "import numpy as np\n",
    "\n",
    "cl_1 = 6\n",
    "cl_2 = 8\n",
    "X_1 = X_train[y_train == cl_1]\n",
    "y_1 = np.ones(len(X_1))\n",
    "X_2 = X_train[y_train == cl_2]\n",
    "y_2 = - np.ones(len(X_2))\n"
   ]
  },
  {
   "cell_type": "code",
   "execution_count": 60,
   "metadata": {},
   "outputs": [
    {
     "data": {
      "text/plain": [
       "(5918, 784)"
      ]
     },
     "execution_count": 60,
     "metadata": {},
     "output_type": "execute_result"
    }
   ],
   "source": [
    "X_1.shape"
   ]
  },
  {
   "cell_type": "code",
   "execution_count": 61,
   "metadata": {},
   "outputs": [
    {
     "data": {
      "text/plain": [
       "(5851, 784)"
      ]
     },
     "execution_count": 61,
     "metadata": {},
     "output_type": "execute_result"
    }
   ],
   "source": [
    "X_2.shape"
   ]
  },
  {
   "cell_type": "code",
   "execution_count": 62,
   "metadata": {},
   "outputs": [
    {
     "data": {
      "text/plain": [
       "<matplotlib.image.AxesImage at 0x176c13ee0>"
      ]
     },
     "execution_count": 62,
     "metadata": {},
     "output_type": "execute_result"
    },
    {
     "data": {
      "image/png": "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",
      "text/plain": [
       "<Figure size 640x480 with 1 Axes>"
      ]
     },
     "metadata": {},
     "output_type": "display_data"
    }
   ],
   "source": [
    "import matplotlib.pyplot as plt\n",
    "\n",
    "plt.imshow(X_1[0].reshape(28, 28))"
   ]
  },
  {
   "cell_type": "code",
   "execution_count": 63,
   "metadata": {},
   "outputs": [
    {
     "data": {
      "text/plain": [
       "array([  0,   0,   0,   0,   0,   0,   0,   0,   0,   0,   0,   0,   0,\n",
       "         0,   0,   0,   0,   0,   0,   0,   0,   0,   0,   0,   0,   0,\n",
       "         0,   0,   0,   0,   0,   0,   0,   0,   0,   0,   0,   0,   0,\n",
       "         0,   0,   0,   0,   0,   0,   0,   0,   0,   0,   0,   0,   0,\n",
       "         0,   0,   0,   0,   0,   0,   0,   0,   0,   0,   0,   0,   0,\n",
       "         0,   0,   0,   0,   0,   0,   0,  38, 222, 225,   0,   0,   0,\n",
       "         0,   0,   0,   0,   0,   0,   0,   0,   0,   0,   0,   0,   0,\n",
       "         0,   0,   0,   0,   0,   0,   0,   0, 147, 234, 252, 176,   0,\n",
       "         0,   0,   0,   0,   0,   0,   0,   0,   0,   0,   0,   0,   0,\n",
       "         0,   0,   0,   0,   0,   0,   0,   0,  23, 197, 253, 252, 208,\n",
       "        19,   0,   0,   0,   0,   0,   0,   0,   0,   0,   0,   0,   0,\n",
       "         0,   0,   0,   0,   0,   0,   0,   0,   0,  38, 178, 252, 253,\n",
       "       117,  65,   0,   0,   0,   0,   0,   0,   0,   0,   0,   0,   0,\n",
       "         0,   0,   0,   0,   0,   0,   0,   0,   0,   0,   0,  57, 252,\n",
       "       252, 253,  89,   0,   0,   0,   0,   0,   0,   0,   0,   0,   0,\n",
       "         0,   0,   0,   0,   0,   0,   0,   0,   0,   0,   0,   0,  38,\n",
       "       222, 253, 253,  79,   0,   0,   0,   0,   0,   0,   0,   0,   0,\n",
       "         0,   0,   0,   0,   0,   0,   0,   0,   0,   0,   0,   0,   0,\n",
       "         0, 131, 252, 179,  27,   0,   0,   0,   0,   0,   0,   0,   0,\n",
       "         0,   0,   0,   0,   0,   0,   0,   0,   0,   0,   0,   0,   0,\n",
       "         0,   0, 198, 246, 220,  37,   0,   0,   0,   0,   0,   0,   0,\n",
       "         0,   0,   0,   0,   0,   0,   0,   0,   0,   0,   0,   0,   0,\n",
       "         0,   0,   0,  79, 253, 252, 135,  28,   0,   0,   0,   0,   0,\n",
       "         0,   0,   0,   0,   0,   0,   0,   0,   0,   0,   0,   0,   0,\n",
       "         0,   0,   0,   0,  16, 140, 253, 252, 118,   0,   0,   0,   0,\n",
       "       111, 140, 140,   0,   0,   0,   0,   0,   0,   0,   0,   0,   0,\n",
       "         0,   0,   0,   0,   0,   0,  13, 191, 255, 253,  56,   0,   0,\n",
       "       114, 113, 222, 253, 253, 255,  27,   0,   0,   0,   0,   0,   0,\n",
       "         0,   0,   0,   0,   0,   0,   0,   0,  76, 252, 253, 223,  37,\n",
       "         0,  48, 174, 252, 252, 242, 214, 253, 199,  31,   0,   0,   0,\n",
       "         0,   0,   0,   0,   0,   0,   0,   0,   0,  13, 109, 252, 228,\n",
       "       130,   0,  38, 165, 253, 233, 164,  49,  63, 253, 214,  31,   0,\n",
       "         0,   0,   0,   0,   0,   0,   0,   0,   0,   0,   0,  73, 252,\n",
       "       252, 126,   0,  23, 178, 252, 240, 148,   7,  44, 215, 240, 148,\n",
       "         0,   0,   0,   0,   0,   0,   0,   0,   0,   0,   0,   0,   0,\n",
       "       119, 252, 252,   0,   0, 197, 252, 252,  63,   0,  57, 252, 252,\n",
       "       140,   0,   0,   0,   0,   0,   0,   0,   0,   0,   0,   0,   0,\n",
       "         0,   0, 135, 253, 174,   0,  48, 229, 253, 112,   0,  38, 222,\n",
       "       253, 112,   0,   0,   0,   0,   0,   0,   0,   0,   0,   0,   0,\n",
       "         0,   0,   0,   0, 135, 252, 173,   0,  48, 227, 252, 158, 226,\n",
       "       234, 201,  27,  12,   0,   0,   0,   0,   0,   0,   0,   0,   0,\n",
       "         0,   0,   0,   0,   0,   0,  57, 252, 252,  57, 104, 240, 252,\n",
       "       252, 253, 233,  74,   0,   0,   0,   0,   0,   0,   0,   0,   0,\n",
       "         0,   0,   0,   0,   0,   0,   0,   0,  51, 242, 252, 253, 252,\n",
       "       252, 252, 252, 240, 148,   0,   0,   0,   0,   0,   0,   0,   0,\n",
       "         0,   0,   0,   0,   0,   0,   0,   0,   0,   0,   0,  75, 189,\n",
       "       253, 252, 252, 157, 112,  63,   0,   0,   0,   0,   0,   0,   0,\n",
       "         0,   0,   0,   0,   0,   0,   0,   0,   0,   0,   0,   0,   0,\n",
       "         0,   0,   0,   0,   0,   0,   0,   0,   0,   0,   0,   0,   0,\n",
       "         0,   0,   0,   0,   0,   0,   0,   0,   0,   0,   0,   0,   0,\n",
       "         0,   0,   0,   0,   0,   0,   0,   0,   0,   0,   0,   0,   0,\n",
       "         0,   0,   0,   0,   0,   0,   0,   0,   0,   0,   0,   0,   0,\n",
       "         0,   0,   0,   0,   0,   0,   0,   0,   0,   0,   0,   0,   0,\n",
       "         0,   0,   0,   0,   0,   0,   0,   0,   0,   0,   0,   0,   0,\n",
       "         0,   0,   0,   0,   0,   0,   0,   0,   0,   0,   0,   0,   0,\n",
       "         0,   0,   0,   0,   0,   0,   0,   0,   0,   0,   0,   0,   0,\n",
       "         0,   0,   0,   0,   0,   0,   0,   0,   0,   0,   0,   0,   0,\n",
       "         0,   0,   0,   0,   0,   0,   0,   0,   0,   0,   0,   0,   0,\n",
       "         0,   0,   0,   0,   0,   0,   0,   0,   0,   0,   0,   0,   0,\n",
       "         0,   0,   0,   0,   0,   0,   0,   0,   0,   0,   0,   0,   0,\n",
       "         0,   0,   0,   0], dtype=uint8)"
      ]
     },
     "execution_count": 63,
     "metadata": {},
     "output_type": "execute_result"
    }
   ],
   "source": [
    "X_1[0]"
   ]
  },
  {
   "cell_type": "code",
   "execution_count": 64,
   "metadata": {},
   "outputs": [],
   "source": [
    "X_1 = X_1.astype(float)\n",
    "X_2 = X_2.astype(float)"
   ]
  },
  {
   "cell_type": "code",
   "execution_count": 65,
   "metadata": {},
   "outputs": [
    {
     "name": "stdout",
     "output_type": "stream",
     "text": [
      "(5918, 784)\n",
      "(5851, 784)\n",
      "(11769, 784)\n"
     ]
    }
   ],
   "source": [
    "# Combine the two arrays into one\n",
    "print(X_1.shape)\n",
    "print(X_2.shape)\n",
    "X_pre = np.vstack((X_1, X_2))\n",
    "y_pre = np.hstack((y_1, y_2))\n",
    "print(X_pre.shape)"
   ]
  },
  {
   "cell_type": "code",
   "execution_count": 66,
   "metadata": {},
   "outputs": [
    {
     "data": {
      "text/plain": [
       "(11769,)"
      ]
     },
     "execution_count": 66,
     "metadata": {},
     "output_type": "execute_result"
    }
   ],
   "source": [
    "y_pre.shape"
   ]
  },
  {
   "cell_type": "code",
   "execution_count": 67,
   "metadata": {},
   "outputs": [
    {
     "data": {
      "text/plain": [
       "array([[-1., -1., -1., ..., -1., -1., -1.],\n",
       "       [-1., -1., -1., ..., -1., -1., -1.],\n",
       "       [-1., -1., -1., ..., -1., -1., -1.],\n",
       "       ...,\n",
       "       [-1., -1., -1., ..., -1., -1., -1.],\n",
       "       [-1., -1., -1., ..., -1., -1., -1.],\n",
       "       [-1., -1., -1., ..., -1., -1., -1.]])"
      ]
     },
     "execution_count": 67,
     "metadata": {},
     "output_type": "execute_result"
    }
   ],
   "source": [
    "X_pre = (X_pre - 127.5) / 127.5\n",
    "X_pre"
   ]
  },
  {
   "cell_type": "code",
   "execution_count": 68,
   "metadata": {},
   "outputs": [
    {
     "data": {
      "text/plain": [
       "array([-1.        , -1.        , -1.        , -1.        , -1.        ,\n",
       "       -1.        , -1.        , -1.        , -1.        , -1.        ,\n",
       "       -1.        , -1.        , -1.        , -1.        , -1.        ,\n",
       "       -1.        , -1.        , -1.        , -1.        , -1.        ,\n",
       "       -1.        , -1.        , -1.        , -1.        , -1.        ,\n",
       "       -1.        , -1.        , -1.        , -1.        , -1.        ,\n",
       "       -1.        , -1.        , -1.        , -1.        , -1.        ,\n",
       "       -1.        , -1.        , -1.        , -1.        , -1.        ,\n",
       "       -1.        , -1.        , -1.        , -1.        , -1.        ,\n",
       "       -1.        , -1.        , -1.        , -1.        , -1.        ,\n",
       "       -1.        , -1.        , -1.        , -1.        , -1.        ,\n",
       "       -1.        , -1.        , -1.        , -1.        , -1.        ,\n",
       "       -1.        , -1.        , -1.        , -1.        , -1.        ,\n",
       "       -1.        , -1.        , -1.        , -1.        , -1.        ,\n",
       "       -1.        , -1.        , -0.70196078,  0.74117647,  0.76470588,\n",
       "       -1.        , -1.        , -1.        , -1.        , -1.        ,\n",
       "       -1.        , -1.        , -1.        , -1.        , -1.        ,\n",
       "       -1.        , -1.        , -1.        , -1.        , -1.        ,\n",
       "       -1.        , -1.        , -1.        , -1.        , -1.        ,\n",
       "       -1.        , -1.        , -1.        , -1.        ,  0.15294118,\n",
       "        0.83529412,  0.97647059,  0.38039216, -1.        , -1.        ,\n",
       "       -1.        , -1.        , -1.        , -1.        , -1.        ,\n",
       "       -1.        , -1.        , -1.        , -1.        , -1.        ,\n",
       "       -1.        , -1.        , -1.        , -1.        , -1.        ,\n",
       "       -1.        , -1.        , -1.        , -1.        , -1.        ,\n",
       "       -0.81960784,  0.54509804,  0.98431373,  0.97647059,  0.63137255,\n",
       "       -0.85098039, -1.        , -1.        , -1.        , -1.        ,\n",
       "       -1.        , -1.        , -1.        , -1.        , -1.        ,\n",
       "       -1.        , -1.        , -1.        , -1.        , -1.        ,\n",
       "       -1.        , -1.        , -1.        , -1.        , -1.        ,\n",
       "       -1.        , -1.        , -0.70196078,  0.39607843,  0.97647059,\n",
       "        0.98431373, -0.08235294, -0.49019608, -1.        , -1.        ,\n",
       "       -1.        , -1.        , -1.        , -1.        , -1.        ,\n",
       "       -1.        , -1.        , -1.        , -1.        , -1.        ,\n",
       "       -1.        , -1.        , -1.        , -1.        , -1.        ,\n",
       "       -1.        , -1.        , -1.        , -1.        , -1.        ,\n",
       "       -0.55294118,  0.97647059,  0.97647059,  0.98431373, -0.30196078,\n",
       "       -1.        , -1.        , -1.        , -1.        , -1.        ,\n",
       "       -1.        , -1.        , -1.        , -1.        , -1.        ,\n",
       "       -1.        , -1.        , -1.        , -1.        , -1.        ,\n",
       "       -1.        , -1.        , -1.        , -1.        , -1.        ,\n",
       "       -1.        , -1.        , -0.70196078,  0.74117647,  0.98431373,\n",
       "        0.98431373, -0.38039216, -1.        , -1.        , -1.        ,\n",
       "       -1.        , -1.        , -1.        , -1.        , -1.        ,\n",
       "       -1.        , -1.        , -1.        , -1.        , -1.        ,\n",
       "       -1.        , -1.        , -1.        , -1.        , -1.        ,\n",
       "       -1.        , -1.        , -1.        , -1.        , -1.        ,\n",
       "        0.02745098,  0.97647059,  0.40392157, -0.78823529, -1.        ,\n",
       "       -1.        , -1.        , -1.        , -1.        , -1.        ,\n",
       "       -1.        , -1.        , -1.        , -1.        , -1.        ,\n",
       "       -1.        , -1.        , -1.        , -1.        , -1.        ,\n",
       "       -1.        , -1.        , -1.        , -1.        , -1.        ,\n",
       "       -1.        , -1.        ,  0.55294118,  0.92941176,  0.7254902 ,\n",
       "       -0.70980392, -1.        , -1.        , -1.        , -1.        ,\n",
       "       -1.        , -1.        , -1.        , -1.        , -1.        ,\n",
       "       -1.        , -1.        , -1.        , -1.        , -1.        ,\n",
       "       -1.        , -1.        , -1.        , -1.        , -1.        ,\n",
       "       -1.        , -1.        , -1.        , -1.        , -0.38039216,\n",
       "        0.98431373,  0.97647059,  0.05882353, -0.78039216, -1.        ,\n",
       "       -1.        , -1.        , -1.        , -1.        , -1.        ,\n",
       "       -1.        , -1.        , -1.        , -1.        , -1.        ,\n",
       "       -1.        , -1.        , -1.        , -1.        , -1.        ,\n",
       "       -1.        , -1.        , -1.        , -1.        , -1.        ,\n",
       "       -1.        , -0.8745098 ,  0.09803922,  0.98431373,  0.97647059,\n",
       "       -0.0745098 , -1.        , -1.        , -1.        , -1.        ,\n",
       "       -0.12941176,  0.09803922,  0.09803922, -1.        , -1.        ,\n",
       "       -1.        , -1.        , -1.        , -1.        , -1.        ,\n",
       "       -1.        , -1.        , -1.        , -1.        , -1.        ,\n",
       "       -1.        , -1.        , -1.        , -1.        , -0.89803922,\n",
       "        0.49803922,  1.        ,  0.98431373, -0.56078431, -1.        ,\n",
       "       -1.        , -0.10588235, -0.11372549,  0.74117647,  0.98431373,\n",
       "        0.98431373,  1.        , -0.78823529, -1.        , -1.        ,\n",
       "       -1.        , -1.        , -1.        , -1.        , -1.        ,\n",
       "       -1.        , -1.        , -1.        , -1.        , -1.        ,\n",
       "       -1.        , -1.        , -0.40392157,  0.97647059,  0.98431373,\n",
       "        0.74901961, -0.70980392, -1.        , -0.62352941,  0.36470588,\n",
       "        0.97647059,  0.97647059,  0.89803922,  0.67843137,  0.98431373,\n",
       "        0.56078431, -0.75686275, -1.        , -1.        , -1.        ,\n",
       "       -1.        , -1.        , -1.        , -1.        , -1.        ,\n",
       "       -1.        , -1.        , -1.        , -1.        , -0.89803922,\n",
       "       -0.14509804,  0.97647059,  0.78823529,  0.01960784, -1.        ,\n",
       "       -0.70196078,  0.29411765,  0.98431373,  0.82745098,  0.28627451,\n",
       "       -0.61568627, -0.50588235,  0.98431373,  0.67843137, -0.75686275,\n",
       "       -1.        , -1.        , -1.        , -1.        , -1.        ,\n",
       "       -1.        , -1.        , -1.        , -1.        , -1.        ,\n",
       "       -1.        , -1.        , -0.42745098,  0.97647059,  0.97647059,\n",
       "       -0.01176471, -1.        , -0.81960784,  0.39607843,  0.97647059,\n",
       "        0.88235294,  0.16078431, -0.94509804, -0.65490196,  0.68627451,\n",
       "        0.88235294,  0.16078431, -1.        , -1.        , -1.        ,\n",
       "       -1.        , -1.        , -1.        , -1.        , -1.        ,\n",
       "       -1.        , -1.        , -1.        , -1.        , -1.        ,\n",
       "       -0.06666667,  0.97647059,  0.97647059, -1.        , -1.        ,\n",
       "        0.54509804,  0.97647059,  0.97647059, -0.50588235, -1.        ,\n",
       "       -0.55294118,  0.97647059,  0.97647059,  0.09803922, -1.        ,\n",
       "       -1.        , -1.        , -1.        , -1.        , -1.        ,\n",
       "       -1.        , -1.        , -1.        , -1.        , -1.        ,\n",
       "       -1.        , -1.        , -1.        ,  0.05882353,  0.98431373,\n",
       "        0.36470588, -1.        , -0.62352941,  0.79607843,  0.98431373,\n",
       "       -0.12156863, -1.        , -0.70196078,  0.74117647,  0.98431373,\n",
       "       -0.12156863, -1.        , -1.        , -1.        , -1.        ,\n",
       "       -1.        , -1.        , -1.        , -1.        , -1.        ,\n",
       "       -1.        , -1.        , -1.        , -1.        , -1.        ,\n",
       "       -1.        ,  0.05882353,  0.97647059,  0.35686275, -1.        ,\n",
       "       -0.62352941,  0.78039216,  0.97647059,  0.23921569,  0.77254902,\n",
       "        0.83529412,  0.57647059, -0.78823529, -0.90588235, -1.        ,\n",
       "       -1.        , -1.        , -1.        , -1.        , -1.        ,\n",
       "       -1.        , -1.        , -1.        , -1.        , -1.        ,\n",
       "       -1.        , -1.        , -1.        , -1.        , -0.55294118,\n",
       "        0.97647059,  0.97647059, -0.55294118, -0.18431373,  0.88235294,\n",
       "        0.97647059,  0.97647059,  0.98431373,  0.82745098, -0.41960784,\n",
       "       -1.        , -1.        , -1.        , -1.        , -1.        ,\n",
       "       -1.        , -1.        , -1.        , -1.        , -1.        ,\n",
       "       -1.        , -1.        , -1.        , -1.        , -1.        ,\n",
       "       -1.        , -1.        , -0.6       ,  0.89803922,  0.97647059,\n",
       "        0.98431373,  0.97647059,  0.97647059,  0.97647059,  0.97647059,\n",
       "        0.88235294,  0.16078431, -1.        , -1.        , -1.        ,\n",
       "       -1.        , -1.        , -1.        , -1.        , -1.        ,\n",
       "       -1.        , -1.        , -1.        , -1.        , -1.        ,\n",
       "       -1.        , -1.        , -1.        , -1.        , -1.        ,\n",
       "       -1.        , -0.41176471,  0.48235294,  0.98431373,  0.97647059,\n",
       "        0.97647059,  0.23137255, -0.12156863, -0.50588235, -1.        ,\n",
       "       -1.        , -1.        , -1.        , -1.        , -1.        ,\n",
       "       -1.        , -1.        , -1.        , -1.        , -1.        ,\n",
       "       -1.        , -1.        , -1.        , -1.        , -1.        ,\n",
       "       -1.        , -1.        , -1.        , -1.        , -1.        ,\n",
       "       -1.        , -1.        , -1.        , -1.        , -1.        ,\n",
       "       -1.        , -1.        , -1.        , -1.        , -1.        ,\n",
       "       -1.        , -1.        , -1.        , -1.        , -1.        ,\n",
       "       -1.        , -1.        , -1.        , -1.        , -1.        ,\n",
       "       -1.        , -1.        , -1.        , -1.        , -1.        ,\n",
       "       -1.        , -1.        , -1.        , -1.        , -1.        ,\n",
       "       -1.        , -1.        , -1.        , -1.        , -1.        ,\n",
       "       -1.        , -1.        , -1.        , -1.        , -1.        ,\n",
       "       -1.        , -1.        , -1.        , -1.        , -1.        ,\n",
       "       -1.        , -1.        , -1.        , -1.        , -1.        ,\n",
       "       -1.        , -1.        , -1.        , -1.        , -1.        ,\n",
       "       -1.        , -1.        , -1.        , -1.        , -1.        ,\n",
       "       -1.        , -1.        , -1.        , -1.        , -1.        ,\n",
       "       -1.        , -1.        , -1.        , -1.        , -1.        ,\n",
       "       -1.        , -1.        , -1.        , -1.        , -1.        ,\n",
       "       -1.        , -1.        , -1.        , -1.        , -1.        ,\n",
       "       -1.        , -1.        , -1.        , -1.        , -1.        ,\n",
       "       -1.        , -1.        , -1.        , -1.        , -1.        ,\n",
       "       -1.        , -1.        , -1.        , -1.        , -1.        ,\n",
       "       -1.        , -1.        , -1.        , -1.        , -1.        ,\n",
       "       -1.        , -1.        , -1.        , -1.        , -1.        ,\n",
       "       -1.        , -1.        , -1.        , -1.        , -1.        ,\n",
       "       -1.        , -1.        , -1.        , -1.        , -1.        ,\n",
       "       -1.        , -1.        , -1.        , -1.        , -1.        ,\n",
       "       -1.        , -1.        , -1.        , -1.        , -1.        ,\n",
       "       -1.        , -1.        , -1.        , -1.        , -1.        ,\n",
       "       -1.        , -1.        , -1.        , -1.        , -1.        ,\n",
       "       -1.        , -1.        , -1.        , -1.        , -1.        ,\n",
       "       -1.        , -1.        , -1.        , -1.        , -1.        ,\n",
       "       -1.        , -1.        , -1.        , -1.        , -1.        ,\n",
       "       -1.        , -1.        , -1.        , -1.        , -1.        ,\n",
       "       -1.        , -1.        , -1.        , -1.        ])"
      ]
     },
     "execution_count": 68,
     "metadata": {},
     "output_type": "execute_result"
    }
   ],
   "source": [
    "X_pre[0]"
   ]
  },
  {
   "cell_type": "code",
   "execution_count": 69,
   "metadata": {},
   "outputs": [],
   "source": [
    "X_pre = X_pre + np.random.randn(X_pre.shape[0], (X_pre.shape[1]))"
   ]
  },
  {
   "cell_type": "code",
   "execution_count": 70,
   "metadata": {},
   "outputs": [],
   "source": [
    "from sklearn.preprocessing import StandardScaler\n",
    "sc = StandardScaler()\n",
    "X_pre = sc.fit_transform(X_pre)\n"
   ]
  },
  {
   "cell_type": "code",
   "execution_count": 45,
   "metadata": {},
   "outputs": [],
   "source": [
    "X_pre = X_pre + np.random.randn(X_pre.shape[0], (X_pre.shape[1]))"
   ]
  },
  {
   "cell_type": "code",
   "execution_count": 71,
   "metadata": {},
   "outputs": [
    {
     "data": {
      "text/plain": [
       "(array([0.00109689, 0.01206574, 0.06208372, 0.20073006, 0.35495218,\n",
       "        0.36087536, 0.21367331, 0.07107819, 0.013382  , 0.00109689]),\n",
       " array([-3.92192537, -3.14735264, -2.37277991, -1.59820718, -0.82363445,\n",
       "        -0.04906171,  0.72551102,  1.50008375,  2.27465648,  3.04922921,\n",
       "         3.82380194]),\n",
       " <BarContainer object of 10 artists>)"
      ]
     },
     "execution_count": 71,
     "metadata": {},
     "output_type": "execute_result"
    },
    {
     "data": {
      "image/png": "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",
      "text/plain": [
       "<Figure size 640x480 with 1 Axes>"
      ]
     },
     "metadata": {},
     "output_type": "display_data"
    }
   ],
   "source": [
    "n = len(X_pre)\n",
    "plt.hist(X_pre[:n//2, 392], color = 'tab:blue', density= True)\n",
    "plt.hist(X_pre[n//2:, 392], color = 'tab:red', density= True)"
   ]
  },
  {
   "cell_type": "code",
   "execution_count": 51,
   "metadata": {},
   "outputs": [],
   "source": [
    "sc = StandardScaler()\n",
    "X_pre = sc.fit_transform(X_pre)"
   ]
  },
  {
   "cell_type": "code",
   "execution_count": 52,
   "metadata": {},
   "outputs": [
    {
     "data": {
      "text/plain": [
       "(array([0.00183998, 0.01402985, 0.07221924, 0.21757771, 0.3613262 ,\n",
       "        0.36523616, 0.21780771, 0.08394912, 0.01678982, 0.00275997]),\n",
       " array([-3.72484579, -2.98604005, -2.24723431, -1.50842858, -0.76962284,\n",
       "        -0.03081711,  0.70798863,  1.44679437,  2.1856001 ,  2.92440584,\n",
       "         3.66321157]),\n",
       " <BarContainer object of 10 artists>)"
      ]
     },
     "execution_count": 52,
     "metadata": {},
     "output_type": "execute_result"
    },
    {
     "data": {
      "image/png": "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",
      "text/plain": [
       "<Figure size 640x480 with 1 Axes>"
      ]
     },
     "metadata": {},
     "output_type": "display_data"
    }
   ],
   "source": [
    "n = len(X_pre)\n",
    "plt.hist(X_pre[:n//2, 392], color = 'tab:blue', density= True)\n",
    "plt.hist(X_pre[n//2:, 392], color = 'tab:red', density= True)"
   ]
  },
  {
   "cell_type": "code",
   "execution_count": 53,
   "metadata": {},
   "outputs": [
    {
     "data": {
      "text/plain": [
       "4.39507743713591"
      ]
     },
     "execution_count": 53,
     "metadata": {},
     "output_type": "execute_result"
    }
   ],
   "source": [
    "vmu_1 = np.mean(X_pre[y_pre == -1], axis = 0)\n",
    "vmu_2 = np.mean(X_pre[y_pre == 1], axis = 0)\n",
    "mu = np.sqrt(abs(np.inner(vmu_1, vmu_2)))\n",
    "mu"
   ]
  },
  {
   "cell_type": "code",
   "execution_count": 72,
   "metadata": {},
   "outputs": [
    {
     "data": {
      "text/plain": [
       "4"
      ]
     },
     "execution_count": 72,
     "metadata": {},
     "output_type": "execute_result"
    }
   ],
   "source": [
    "int('4')"
   ]
  },
  {
   "cell_type": "code",
   "execution_count": 73,
   "metadata": {},
   "outputs": [
    {
     "name": "stderr",
     "output_type": "stream",
     "text": [
      "/Users/aelfirdo/Desktop/Research/TII/Transfer Learning/Transfer-Learning/.venv/lib/python3.9/site-packages/urllib3/__init__.py:35: NotOpenSSLWarning: urllib3 v2 only supports OpenSSL 1.1.1+, currently the 'ssl' module is compiled with 'LibreSSL 2.8.3'. See: https://github.com/urllib3/urllib3/issues/3020\n",
      "  warnings.warn(\n",
      "/Users/aelfirdo/Desktop/Research/TII/Transfer Learning/Transfer-Learning/.venv/lib/python3.9/site-packages/tqdm/auto.py:21: TqdmWarning: IProgress not found. Please update jupyter and ipywidgets. See https://ipywidgets.readthedocs.io/en/stable/user_install.html\n",
      "  from .autonotebook import tqdm as notebook_tqdm\n"
     ]
    }
   ],
   "source": [
    "from dataset import *\n",
    "from utils import *\n",
    "from rmt_results import *\n",
    "\n",
    "# Parameters\n",
    "N = 3000\n",
    "n = 100\n",
    "p = 784\n",
    "type_1 = '6_1'\n",
    "type_2 = '8_7'\n",
    "data_pre, data_ft, beta, vmu_orth = create_pre_ft_datasets(N, type_1, n, type_2, dataset_name='mnist')\n"
   ]
  },
  {
   "cell_type": "code",
   "execution_count": 74,
   "metadata": {},
   "outputs": [
    {
     "data": {
      "text/plain": [
       "0.06771247375665432"
      ]
     },
     "execution_count": 74,
     "metadata": {},
     "output_type": "execute_result"
    }
   ],
   "source": [
    "beta"
   ]
  },
  {
   "cell_type": "markdown",
   "metadata": {},
   "source": [
    "## Neural Network based dataset\n",
    "\n",
    "We will train a simple Neural Net with one hidden layer to create embeddings of MNIST images that hopefully will fit our model."
   ]
  },
  {
   "cell_type": "code",
   "execution_count": 1,
   "metadata": {},
   "outputs": [
    {
     "name": "stderr",
     "output_type": "stream",
     "text": [
      "/Users/aelfirdo/Desktop/Research/TII/Transfer Learning/Transfer-Learning/.venv/lib/python3.9/site-packages/urllib3/__init__.py:35: NotOpenSSLWarning: urllib3 v2 only supports OpenSSL 1.1.1+, currently the 'ssl' module is compiled with 'LibreSSL 2.8.3'. See: https://github.com/urllib3/urllib3/issues/3020\n",
      "  warnings.warn(\n",
      "/Users/aelfirdo/Desktop/Research/TII/Transfer Learning/Transfer-Learning/.venv/lib/python3.9/site-packages/tqdm/auto.py:21: TqdmWarning: IProgress not found. Please update jupyter and ipywidgets. See https://ipywidgets.readthedocs.io/en/stable/user_install.html\n",
      "  from .autonotebook import tqdm as notebook_tqdm\n"
     ]
    }
   ],
   "source": [
    "from bertii_model import simple_mnist\n",
    "from dataset import *\n",
    "from embedders import *\n",
    "import torch\n",
    "\n",
    "# MNIST datasets\n",
    "cl_1 = 6\n",
    "cl_2 = 9\n",
    "pre_data = CustomMnistDataset(cl_1, cl_2, train = True, device = 'cpu')\n",
    "ft_data = CustomMnistDataset(1, 7, train = True, device = 'cpu')\n"
   ]
  },
  {
   "cell_type": "code",
   "execution_count": 2,
   "metadata": {},
   "outputs": [
    {
     "data": {
      "text/plain": [
       "torch.Size([11867, 784])"
      ]
     },
     "execution_count": 2,
     "metadata": {},
     "output_type": "execute_result"
    }
   ],
   "source": [
    "pre_data.X.shape"
   ]
  },
  {
   "cell_type": "code",
   "execution_count": 3,
   "metadata": {},
   "outputs": [
    {
     "name": "stderr",
     "output_type": "stream",
     "text": [
      "/Users/aelfirdo/Desktop/Research/TII/Transfer Learning/Transfer-Learning/embedders.py:51: FutureWarning: You are using `torch.load` with `weights_only=False` (the current default value), which uses the default pickle module implicitly. It is possible to construct malicious pickle data which will execute arbitrary code during unpickling (See https://github.com/pytorch/pytorch/blob/main/SECURITY.md#untrusted-models for more details). In a future release, the default value for `weights_only` will be flipped to `True`. This limits the functions that could be executed during unpickling. Arbitrary objects will no longer be allowed to be loaded via this mode unless they are explicitly allowlisted by the user via `torch.serialization.add_safe_globals`. We recommend you start setting `weights_only=True` for any use case where you don't have full control of the loaded file. Please open an issue on GitHub for any issues related to this experimental feature.\n",
      "  state_dict = torch.load(path)\n"
     ]
    }
   ],
   "source": [
    "p = 1024\n",
    "path = 'mnist_model_6-9-p-1024-B-32.pth'\n",
    "embedder = MNISTEmbedder(p, path, 'cpu')\n",
    "X_pre = embedder.get_embeddings(pre_data.X)\n",
    "#X_pre = X_pre.cpu().detach().numpy()\n",
    "X_ft = embedder.get_embeddings(ft_data.X)\n",
    "#X_ft = X_ft.cpu().detach().numpy()"
   ]
  },
  {
   "cell_type": "code",
   "execution_count": 6,
   "metadata": {},
   "outputs": [
    {
     "data": {
      "text/plain": [
       "(11867, 1024)"
      ]
     },
     "execution_count": 6,
     "metadata": {},
     "output_type": "execute_result"
    }
   ],
   "source": [
    "np.array(X_pre).shape"
   ]
  },
  {
   "cell_type": "code",
<<<<<<< HEAD
   "execution_count": 1,
   "metadata": {},
   "outputs": [
    {
     "name": "stderr",
     "output_type": "stream",
     "text": [
      "/lustre1/tier2/users/aymane.elfirdoussi/miniconda3/envs/venv/lib/python3.9/site-packages/tqdm/auto.py:21: TqdmWarning: IProgress not found. Please update jupyter and ipywidgets. See https://ipywidgets.readthedocs.io/en/stable/user_install.html\n",
      "  from .autonotebook import tqdm as notebook_tqdm\n"
     ]
    },
    {
     "ename": "KeyboardInterrupt",
     "evalue": "",
     "output_type": "error",
     "traceback": [
      "\u001b[0;31m---------------------------------------------------------------------------\u001b[0m",
      "\u001b[0;31mKeyboardInterrupt\u001b[0m                         Traceback (most recent call last)",
      "Cell \u001b[0;32mIn[1], line 1\u001b[0m\n\u001b[0;32m----> 1\u001b[0m \u001b[38;5;28;01mfrom\u001b[39;00m \u001b[38;5;21;01mdataset\u001b[39;00m \u001b[38;5;28;01mimport\u001b[39;00m \u001b[38;5;241m*\u001b[39m\n\u001b[1;32m      2\u001b[0m \u001b[38;5;28;01mimport\u001b[39;00m \u001b[38;5;21;01mtiktoken\u001b[39;00m\n\u001b[1;32m      4\u001b[0m tokenizer \u001b[38;5;241m=\u001b[39m tiktoken\u001b[38;5;241m.\u001b[39mget_encoding(\u001b[38;5;124m\"\u001b[39m\u001b[38;5;124mo200k_base\u001b[39m\u001b[38;5;124m\"\u001b[39m)\n",
      "File \u001b[0;32m~/Transfer-Learning/dataset.py:14\u001b[0m\n\u001b[1;32m     12\u001b[0m \u001b[38;5;28;01mfrom\u001b[39;00m \u001b[38;5;21;01mtorch\u001b[39;00m\u001b[38;5;21;01m.\u001b[39;00m\u001b[38;5;21;01mutils\u001b[39;00m\u001b[38;5;21;01m.\u001b[39;00m\u001b[38;5;21;01mdata\u001b[39;00m \u001b[38;5;28;01mimport\u001b[39;00m Dataset\n\u001b[1;32m     13\u001b[0m \u001b[38;5;28;01mimport\u001b[39;00m \u001b[38;5;21;01mpandas\u001b[39;00m \u001b[38;5;28;01mas\u001b[39;00m \u001b[38;5;21;01mpd\u001b[39;00m\n\u001b[0;32m---> 14\u001b[0m \u001b[38;5;28;01mimport\u001b[39;00m \u001b[38;5;21;01mtorchvision\u001b[39;00m\n\u001b[1;32m     15\u001b[0m \u001b[38;5;28;01mfrom\u001b[39;00m \u001b[38;5;21;01mtorchvision\u001b[39;00m\u001b[38;5;21;01m.\u001b[39;00m\u001b[38;5;21;01mtransforms\u001b[39;00m \u001b[38;5;28;01mimport\u001b[39;00m ToTensor\n\u001b[1;32m     16\u001b[0m \u001b[38;5;28;01mfrom\u001b[39;00m \u001b[38;5;21;01membedders\u001b[39;00m \u001b[38;5;28;01mimport\u001b[39;00m \u001b[38;5;241m*\u001b[39m\n",
      "File \u001b[0;32m~/miniconda3/envs/venv/lib/python3.9/site-packages/torchvision/__init__.py:10\u001b[0m\n\u001b[1;32m      7\u001b[0m \u001b[38;5;66;03m# Don't re-order these, we need to load the _C extension (done when importing\u001b[39;00m\n\u001b[1;32m      8\u001b[0m \u001b[38;5;66;03m# .extensions) before entering _meta_registrations.\u001b[39;00m\n\u001b[1;32m      9\u001b[0m \u001b[38;5;28;01mfrom\u001b[39;00m \u001b[38;5;21;01m.\u001b[39;00m\u001b[38;5;21;01mextension\u001b[39;00m \u001b[38;5;28;01mimport\u001b[39;00m _HAS_OPS  \u001b[38;5;66;03m# usort:skip\u001b[39;00m\n\u001b[0;32m---> 10\u001b[0m \u001b[38;5;28;01mfrom\u001b[39;00m \u001b[38;5;21;01mtorchvision\u001b[39;00m \u001b[38;5;28;01mimport\u001b[39;00m _meta_registrations, datasets, io, models, ops, transforms, utils  \u001b[38;5;66;03m# usort:skip\u001b[39;00m\n\u001b[1;32m     12\u001b[0m \u001b[38;5;28;01mtry\u001b[39;00m:\n\u001b[1;32m     13\u001b[0m     \u001b[38;5;28;01mfrom\u001b[39;00m \u001b[38;5;21;01m.\u001b[39;00m\u001b[38;5;21;01mversion\u001b[39;00m \u001b[38;5;28;01mimport\u001b[39;00m __version__  \u001b[38;5;66;03m# noqa: F401\u001b[39;00m\n",
      "File \u001b[0;32m~/miniconda3/envs/venv/lib/python3.9/site-packages/torchvision/_meta_registrations.py:150\u001b[0m\n\u001b[1;32m    145\u001b[0m     out_size \u001b[38;5;241m=\u001b[39m (num_rois, channels \u001b[38;5;241m/\u001b[39m\u001b[38;5;241m/\u001b[39m (pooled_height \u001b[38;5;241m*\u001b[39m pooled_width), pooled_height, pooled_width)\n\u001b[1;32m    146\u001b[0m     \u001b[38;5;28;01mreturn\u001b[39;00m \u001b[38;5;28minput\u001b[39m\u001b[38;5;241m.\u001b[39mnew_empty(out_size), torch\u001b[38;5;241m.\u001b[39mempty(out_size, device\u001b[38;5;241m=\u001b[39m\u001b[38;5;124m\"\u001b[39m\u001b[38;5;124mmeta\u001b[39m\u001b[38;5;124m\"\u001b[39m, dtype\u001b[38;5;241m=\u001b[39mtorch\u001b[38;5;241m.\u001b[39mint32)\n\u001b[1;32m    149\u001b[0m \u001b[38;5;129;43m@register_meta\u001b[39;49m\u001b[43m(\u001b[49m\u001b[38;5;124;43m\"\u001b[39;49m\u001b[38;5;124;43m_ps_roi_pool_backward\u001b[39;49m\u001b[38;5;124;43m\"\u001b[39;49m\u001b[43m)\u001b[49m\n\u001b[0;32m--> 150\u001b[0m \u001b[38;5;28;43;01mdef\u001b[39;49;00m\u001b[43m \u001b[49m\u001b[38;5;21;43mmeta_ps_roi_pool_backward\u001b[39;49m\u001b[43m(\u001b[49m\n\u001b[1;32m    151\u001b[0m \u001b[43m    \u001b[49m\u001b[43mgrad\u001b[49m\u001b[43m,\u001b[49m\u001b[43m \u001b[49m\u001b[43mrois\u001b[49m\u001b[43m,\u001b[49m\u001b[43m \u001b[49m\u001b[43mchannel_mapping\u001b[49m\u001b[43m,\u001b[49m\u001b[43m \u001b[49m\u001b[43mspatial_scale\u001b[49m\u001b[43m,\u001b[49m\u001b[43m \u001b[49m\u001b[43mpooled_height\u001b[49m\u001b[43m,\u001b[49m\u001b[43m \u001b[49m\u001b[43mpooled_width\u001b[49m\u001b[43m,\u001b[49m\u001b[43m \u001b[49m\u001b[43mbatch_size\u001b[49m\u001b[43m,\u001b[49m\u001b[43m \u001b[49m\u001b[43mchannels\u001b[49m\u001b[43m,\u001b[49m\u001b[43m \u001b[49m\u001b[43mheight\u001b[49m\u001b[43m,\u001b[49m\u001b[43m \u001b[49m\u001b[43mwidth\u001b[49m\n\u001b[1;32m    152\u001b[0m \u001b[43m)\u001b[49m\u001b[43m:\u001b[49m\n\u001b[1;32m    153\u001b[0m \u001b[43m    \u001b[49m\u001b[43mtorch\u001b[49m\u001b[38;5;241;43m.\u001b[39;49m\u001b[43m_check\u001b[49m\u001b[43m(\u001b[49m\n\u001b[1;32m    154\u001b[0m \u001b[43m        \u001b[49m\u001b[43mgrad\u001b[49m\u001b[38;5;241;43m.\u001b[39;49m\u001b[43mdtype\u001b[49m\u001b[43m \u001b[49m\u001b[38;5;241;43m==\u001b[39;49m\u001b[43m \u001b[49m\u001b[43mrois\u001b[49m\u001b[38;5;241;43m.\u001b[39;49m\u001b[43mdtype\u001b[49m\u001b[43m,\u001b[49m\n\u001b[1;32m    155\u001b[0m \u001b[43m        \u001b[49m\u001b[38;5;28;43;01mlambda\u001b[39;49;00m\u001b[43m:\u001b[49m\u001b[43m \u001b[49m\u001b[43m(\u001b[49m\n\u001b[0;32m   (...)\u001b[0m\n\u001b[1;32m    158\u001b[0m \u001b[43m        \u001b[49m\u001b[43m)\u001b[49m\u001b[43m,\u001b[49m\n\u001b[1;32m    159\u001b[0m \u001b[43m    \u001b[49m\u001b[43m)\u001b[49m\n\u001b[1;32m    160\u001b[0m \u001b[43m    \u001b[49m\u001b[38;5;28;43;01mreturn\u001b[39;49;00m\u001b[43m \u001b[49m\u001b[43mgrad\u001b[49m\u001b[38;5;241;43m.\u001b[39;49m\u001b[43mnew_empty\u001b[49m\u001b[43m(\u001b[49m\u001b[43m(\u001b[49m\u001b[43mbatch_size\u001b[49m\u001b[43m,\u001b[49m\u001b[43m \u001b[49m\u001b[43mchannels\u001b[49m\u001b[43m,\u001b[49m\u001b[43m \u001b[49m\u001b[43mheight\u001b[49m\u001b[43m,\u001b[49m\u001b[43m \u001b[49m\u001b[43mwidth\u001b[49m\u001b[43m)\u001b[49m\u001b[43m)\u001b[49m\n",
      "File \u001b[0;32m~/miniconda3/envs/venv/lib/python3.9/site-packages/torchvision/_meta_registrations.py:19\u001b[0m, in \u001b[0;36mregister_meta.<locals>.wrapper\u001b[0;34m(fn)\u001b[0m\n\u001b[1;32m     17\u001b[0m \u001b[38;5;28;01mdef\u001b[39;00m \u001b[38;5;21mwrapper\u001b[39m(fn):\n\u001b[1;32m     18\u001b[0m     \u001b[38;5;28;01mif\u001b[39;00m torchvision\u001b[38;5;241m.\u001b[39mextension\u001b[38;5;241m.\u001b[39m_has_ops():\n\u001b[0;32m---> 19\u001b[0m         get_meta_lib()\u001b[38;5;241m.\u001b[39mimpl(\u001b[38;5;28mgetattr\u001b[39m(\u001b[38;5;28;43mgetattr\u001b[39;49m\u001b[43m(\u001b[49m\u001b[43mtorch\u001b[49m\u001b[38;5;241;43m.\u001b[39;49m\u001b[43mops\u001b[49m\u001b[38;5;241;43m.\u001b[39;49m\u001b[43mtorchvision\u001b[49m\u001b[43m,\u001b[49m\u001b[43m \u001b[49m\u001b[43mop_name\u001b[49m\u001b[43m)\u001b[49m, overload_name), fn)\n\u001b[1;32m     20\u001b[0m     \u001b[38;5;28;01mreturn\u001b[39;00m fn\n",
      "File \u001b[0;32m~/miniconda3/envs/venv/lib/python3.9/site-packages/torch/_ops.py:1168\u001b[0m, in \u001b[0;36m_OpNamespace.__getattr__\u001b[0;34m(self, op_name)\u001b[0m\n\u001b[1;32m   1165\u001b[0m module_name \u001b[38;5;241m=\u001b[39m \u001b[38;5;28mself\u001b[39m\u001b[38;5;241m.\u001b[39m\u001b[38;5;18m__module__\u001b[39m \u001b[38;5;241m+\u001b[39m \u001b[38;5;124m\"\u001b[39m\u001b[38;5;124m.\u001b[39m\u001b[38;5;124m\"\u001b[39m \u001b[38;5;241m+\u001b[39m namespace_name\n\u001b[1;32m   1167\u001b[0m \u001b[38;5;28;01mtry\u001b[39;00m:\n\u001b[0;32m-> 1168\u001b[0m     op, overload_names \u001b[38;5;241m=\u001b[39m \u001b[43m_get_packet\u001b[49m\u001b[43m(\u001b[49m\u001b[43mqualified_op_name\u001b[49m\u001b[43m,\u001b[49m\u001b[43m \u001b[49m\u001b[43mmodule_name\u001b[49m\u001b[43m)\u001b[49m\n\u001b[1;32m   1169\u001b[0m     \u001b[38;5;28;01mif\u001b[39;00m op \u001b[38;5;129;01mis\u001b[39;00m \u001b[38;5;28;01mNone\u001b[39;00m:\n\u001b[1;32m   1170\u001b[0m         \u001b[38;5;28;01mraise\u001b[39;00m \u001b[38;5;167;01mAttributeError\u001b[39;00m(\n\u001b[1;32m   1171\u001b[0m             \u001b[38;5;124mf\u001b[39m\u001b[38;5;124m\"\u001b[39m\u001b[38;5;124m'\u001b[39m\u001b[38;5;124m_OpNamespace\u001b[39m\u001b[38;5;124m'\u001b[39m\u001b[38;5;124m \u001b[39m\u001b[38;5;124m'\u001b[39m\u001b[38;5;132;01m{\u001b[39;00m\u001b[38;5;28mself\u001b[39m\u001b[38;5;241m.\u001b[39mname\u001b[38;5;132;01m}\u001b[39;00m\u001b[38;5;124m'\u001b[39m\u001b[38;5;124m object has no attribute \u001b[39m\u001b[38;5;124m'\u001b[39m\u001b[38;5;132;01m{\u001b[39;00mop_name\u001b[38;5;132;01m}\u001b[39;00m\u001b[38;5;124m'\u001b[39m\u001b[38;5;124m\"\u001b[39m\n\u001b[1;32m   1172\u001b[0m         )\n",
      "File \u001b[0;32m~/miniconda3/envs/venv/lib/python3.9/site-packages/torch/_ops.py:1193\u001b[0m, in \u001b[0;36m_get_packet\u001b[0;34m(qualname, op_module)\u001b[0m\n\u001b[1;32m   1192\u001b[0m \u001b[38;5;28;01mdef\u001b[39;00m \u001b[38;5;21m_get_packet\u001b[39m(qualname, op_module):\n\u001b[0;32m-> 1193\u001b[0m     op, overload_names \u001b[38;5;241m=\u001b[39m \u001b[43mtorch\u001b[49m\u001b[38;5;241;43m.\u001b[39;49m\u001b[43m_C\u001b[49m\u001b[38;5;241;43m.\u001b[39;49m\u001b[43m_jit_get_operation\u001b[49m\u001b[43m(\u001b[49m\u001b[43mqualname\u001b[49m\u001b[43m)\u001b[49m\n\u001b[1;32m   1194\u001b[0m     \u001b[38;5;28;01mif\u001b[39;00m op \u001b[38;5;129;01mis\u001b[39;00m \u001b[38;5;129;01mnot\u001b[39;00m \u001b[38;5;28;01mNone\u001b[39;00m:\n\u001b[1;32m   1195\u001b[0m         \u001b[38;5;66;03m# let the script frontend know that op is identical to the builtin op\u001b[39;00m\n\u001b[1;32m   1196\u001b[0m         \u001b[38;5;66;03m# with qualified_op_name\u001b[39;00m\n\u001b[1;32m   1197\u001b[0m         torch\u001b[38;5;241m.\u001b[39mjit\u001b[38;5;241m.\u001b[39m_builtins\u001b[38;5;241m.\u001b[39m_register_builtin(op, qualname)\n",
      "\u001b[0;31mKeyboardInterrupt\u001b[0m: "
     ]
    }
   ],
   "source": [
    "from dataset import *\n",
    "import tiktoken\n",
    "\n",
    "tokenizer = tiktoken.get_encoding(\"o200k_base\")\n",
    "train_data = dataset.Safety('train', tokenizer, \"cpu\")\n",
    "test_data = dataset.Safety('test', tokenizer, \"cpu\")"
   ]
  },
  {
   "cell_type": "code",
   "execution_count": null,
   "metadata": {},
   "outputs": [],
   "source": [
    "print(len(train_data))\n",
    "print(len(test_data))"
   ]
=======
   "execution_count": 9,
   "metadata": {},
   "outputs": [],
   "source": [
    "import dataset \n",
    "import tiktoken\n",
    "\n",
    "tokenizer = tiktoken.get_encoding(\"o200k_base\")\n",
    "train_data = dataset.Safety('train', tokenizer, \"cpu\")\n",
    "test_data = dataset.Safety('test', tokenizer, \"cpu\")"
   ]
  },
  {
   "cell_type": "code",
   "execution_count": 10,
   "metadata": {},
   "outputs": [
    {
     "name": "stdout",
     "output_type": "stream",
     "text": [
      "32381\n",
      "30492\n"
     ]
    }
   ],
   "source": [
    "print(len(train_data))\n",
    "print(len(test_data))"
   ]
  },
  {
   "cell_type": "code",
   "execution_count": 11,
   "metadata": {},
   "outputs": [
    {
     "data": {
      "text/plain": [
       "<dataset.Safety at 0x30ea43b80>"
      ]
     },
     "execution_count": 11,
     "metadata": {},
     "output_type": "execute_result"
    }
   ],
   "source": [
    "train_data"
   ]
  },
  {
   "cell_type": "code",
   "execution_count": 12,
   "metadata": {},
   "outputs": [
    {
     "data": {
      "text/plain": [
       "tensor([1., 1., 1.,  ..., 0., 0., 0.])"
      ]
     },
     "execution_count": 12,
     "metadata": {},
     "output_type": "execute_result"
    }
   ],
   "source": [
    "y= train_data.labels\n",
    "y"
   ]
  },
  {
   "cell_type": "code",
   "execution_count": 13,
   "metadata": {},
   "outputs": [
    {
     "data": {
      "text/plain": [
       "tensor(25000.)"
      ]
     },
     "execution_count": 13,
     "metadata": {},
     "output_type": "execute_result"
    }
   ],
   "source": [
    "y.sum()"
   ]
  },
  {
   "cell_type": "code",
   "execution_count": 14,
   "metadata": {},
   "outputs": [
    {
     "data": {
      "text/plain": [
       "tensor([1., 1., 1.,  ..., 0., 0., 0.])"
      ]
     },
     "execution_count": 14,
     "metadata": {},
     "output_type": "execute_result"
    }
   ],
   "source": [
    "y_test = test_data.labels\n",
    "y_test"
   ]
  },
  {
   "cell_type": "code",
   "execution_count": 15,
   "metadata": {},
   "outputs": [
    {
     "data": {
      "text/plain": [
       "tensor(23110.)"
      ]
     },
     "execution_count": 15,
     "metadata": {},
     "output_type": "execute_result"
    }
   ],
   "source": [
    "y_test.sum()"
   ]
<<<<<<< HEAD
  },
  {
   "cell_type": "code",
   "execution_count": 5,
   "metadata": {},
   "outputs": [],
   "source": [
    "import numpy as np\n",
    "import pandas as pd\n",
    "df = pd.read_csv(f'safety_train_n_1000.csv')\n",
    "prompts = df['prompt'].tolist()\n",
    "labels = df['label'].tolist()"
   ]
  },
  {
   "cell_type": "code",
   "execution_count": 6,
   "metadata": {},
   "outputs": [
    {
     "data": {
      "text/plain": [
       "600"
      ]
     },
     "execution_count": 6,
     "metadata": {},
     "output_type": "execute_result"
    }
   ],
   "source": [
    "np.sum(labels)"
   ]
  },
  {
   "cell_type": "code",
   "execution_count": null,
   "metadata": {},
   "outputs": [],
   "source": []
=======
>>>>>>> 81b5808e80cf3cc89d027a4411b838565b6322d5
>>>>>>> 098c6e1e24e58d3bd37c9aaedaebf2ca41ab5de9
  }
 ],
 "metadata": {
  "kernelspec": {
   "display_name": ".venv",
   "language": "python",
   "name": "python3"
  },
  "language_info": {
   "codemirror_mode": {
    "name": "ipython",
    "version": 3
   },
   "file_extension": ".py",
   "mimetype": "text/x-python",
   "name": "python",
   "nbconvert_exporter": "python",
   "pygments_lexer": "ipython3",
   "version": "3.9.18"
  }
 },
 "nbformat": 4,
 "nbformat_minor": 2
}
